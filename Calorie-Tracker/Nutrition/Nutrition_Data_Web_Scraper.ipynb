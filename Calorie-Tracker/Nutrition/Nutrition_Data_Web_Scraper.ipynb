{
 "cells": [
  {
   "cell_type": "code",
   "execution_count": 1,
   "metadata": {},
   "outputs": [],
   "source": [
    "from bs4 import BeautifulSoup\n",
    "from html.parser import HTMLParser\n",
    "from io import StringIO\n",
    "from ipynb.fs.defs.Barcode import BAR\n",
    "import re\n",
    "import requests"
   ]
  },
  {
   "cell_type": "code",
   "execution_count": 2,
   "metadata": {},
   "outputs": [],
   "source": [
    "#Function to remove HTML Tags from string\n",
    "class MLStripper(HTMLParser):\n",
    "    def __init__(self):\n",
    "        super().__init__()\n",
    "        self.reset()\n",
    "        self.strict = False\n",
    "        self.convert_charrefs= True\n",
    "        self.text = StringIO()\n",
    "    def handle_data(self, d):\n",
    "        self.text.write(d)\n",
    "    def get_data(self):\n",
    "        return self.text.getvalue()\n",
    "\n",
    "def strip_tags(html):\n",
    "    s = MLStripper()\n",
    "    s.feed(html)\n",
    "    return s.get_data()"
   ]
  },
  {
   "cell_type": "code",
   "execution_count": 3,
   "metadata": {},
   "outputs": [],
   "source": [
    "#Function specific to our preprocessing needs\n",
    "def Preprocessing(text):\n",
    "    text=text.replace(\"<br/>\",\" \")\n",
    "    text=strip_tags(str(text))\n",
    "    text=text.replace(\"\\n\",\"\")\n",
    "    text=text.replace(\",\",\"\")\n",
    "    text=text.replace(\"[\",\"\")\n",
    "    text=text.replace(\"]\",\"\")\n",
    "    text=' '.join(text.split())\n",
    "    return text"
   ]
  },
  {
   "cell_type": "code",
   "execution_count": 4,
   "metadata": {},
   "outputs": [],
   "source": [
    "#Function to get columns of the nutrition table \n",
    "#Columns dictates what the numbers mean for each nutrient constituent \n",
    "#[Example of column : As sold for 100 g / 100 ml ]\n",
    "#[Example of nutrient constituent : Carbohydrates]\n",
    "def get_columns(text):\n",
    "    tag1=r'th scope=\"col\" style=\"max-width:15rem\"'\n",
    "    tag2=r'th scope=\"col\"'\n",
    "    tag_end='th'\n",
    "    reg_str = \"<\" + tag1 + \">(.*?)</\" + tag_end + \">\"\n",
    "    res1 = re.findall(reg_str, text)\n",
    "    reg_str = \"<\" + tag2 + \">(.*?)</\" + tag_end + \">\"\n",
    "    res2 = re.findall(reg_str, text)\n",
    "    res1.extend(res2)\n",
    "    columns=[]\n",
    "    for i in res1:\n",
    "        columns.append(Preprocessing(i))\n",
    "    return columns"
   ]
  },
  {
   "cell_type": "code",
   "execution_count": 5,
   "metadata": {},
   "outputs": [],
   "source": [
    "#Function to get the nutrient constituents\n",
    "#Here parameters are the nutrient constituents\n",
    "#returns [Carbohydrates, Protein, Saturated Fat] if those three are the ones in the table. \n",
    "def get_parameters(text):\n",
    "    tag1=r'span style=\"padding-left: 0rem;\"'\n",
    "    tag2=r'span style=\"padding-left: 1rem;\"'\n",
    "    tag_end=r'span'\n",
    "    reg_str = \"<\" + tag1 + \">(.*?)</\" + tag_end + \">\"\n",
    "    res1 = re.findall(reg_str, text)\n",
    "    reg_str = \"<\" + tag2 + \">(.*?)</\" + tag_end + \">\"\n",
    "    res2 = re.findall(reg_str, text)\n",
    "    res1.extend(res2)\n",
    "    val=[]\n",
    "    for i in res1:\n",
    "        val.append(Preprocessing(i))\n",
    "    return val"
   ]
  },
  {
   "cell_type": "code",
   "execution_count": 6,
   "metadata": {},
   "outputs": [],
   "source": [
    "#Function to get the values of the table [numeric value of each nutrient constituent]\n",
    "#This is the actual values of each nutrient constituent for each column \n",
    "def get_values(text):\n",
    "    tag1=r'span'\n",
    "    tag2=r'span class=\"green\"'\n",
    "    tag3=r'span class=\"red\"'\n",
    "    tag_end=r'span'\n",
    "    reg_str = \"<\" + tag1 + \">(.*?)</\" + tag_end + \">\"\n",
    "    res1 = re.findall(reg_str, text)\n",
    "    reg_str = \"<\" + tag2 + \">(.*?)</\" + tag_end + \">\"\n",
    "    res2 = re.findall(reg_str, text)\n",
    "    reg_str = \"<\" + tag3 + \">(.*?)</\" + tag_end + \">\"\n",
    "    res3 = re.findall(reg_str, text)\n",
    "    res1.extend(res2)\n",
    "    res1.extend(res3)\n",
    "    val=[]\n",
    "    for i in res1:\n",
    "        val.append(Preprocessing(i))\n",
    "    return val"
   ]
  },
  {
   "cell_type": "code",
   "execution_count": 1,
   "metadata": {},
   "outputs": [],
   "source": [
    "#input -> location which is the location of the image\n",
    "def Nutrition_web_scraper(location):\n",
    "    #BAR(location) gets the barcode from the image\n",
    "    #url will be (fixed url) + (barcode) for each specific product info\n",
    "    url=\"https://world.openfoodfacts.org/product/\"+BAR(location)\n",
    "    page=requests.get(url)\n",
    "    soup=BeautifulSoup(page.content,'html.parser')\n",
    "    lists=soup.find_all('section',class_=\"row\",id='health')\n",
    "    for i in lists:\n",
    "        nutrition=i.find('div',class_=\"content panel_content active expand-for-large\",id=\"panel_nutrition_facts_table_content\")\n",
    "        nutrition_table=nutrition.find('table')\n",
    "        nutrition_table_contents=nutrition_table.find_all('tr')\n",
    "    table=[]\n",
    "    table.append(get_columns(str(nutrition_table_contents[0]).replace(\"\\n\",\"\")))\n",
    "    for i in nutrition_table_contents[1:]:\n",
    "        l=get_parameters(str(i).replace(\"\\n\",\"\"))\n",
    "        g=get_values(str(i).replace(\"\\n\",\"\"))\n",
    "        l.extend(g)\n",
    "        table.append(l)\n",
    "    return table"
   ]
  },
  {
   "cell_type": "code",
   "execution_count": 8,
   "metadata": {},
   "outputs": [
    {
     "name": "stdout",
     "output_type": "stream",
     "text": [
      "['Nutrition facts', 'As sold for 100 g / 100 ml']\n",
      "['Fat'] ['?']\n",
      "['Saturated fat'] ['?']\n",
      "['Carbohydrates'] ['?']\n",
      "['Sugars'] ['?']\n",
      "['Fiber'] ['?']\n",
      "['Proteins'] ['?']\n",
      "['Salt'] ['?']\n"
     ]
    }
   ],
   "source": [
    "Nutrition_web_scraper(r'C:\\Users\\arviv\\Documents\\Downloads\\food-barcode-label-1000x1000.jpg')"
   ]
  }
 ],
 "metadata": {
  "kernelspec": {
   "display_name": "Nutrition",
   "language": "python",
   "name": "nutrition"
  },
  "language_info": {
   "codemirror_mode": {
    "name": "ipython",
    "version": 3
   },
   "file_extension": ".py",
   "mimetype": "text/x-python",
   "name": "python",
   "nbconvert_exporter": "python",
   "pygments_lexer": "ipython3",
   "version": "3.9.13"
  }
 },
 "nbformat": 4,
 "nbformat_minor": 4
}
