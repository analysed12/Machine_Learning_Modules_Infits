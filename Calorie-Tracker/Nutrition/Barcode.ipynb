{
 "cells": [
  {
   "cell_type": "code",
   "execution_count": 1,
   "metadata": {},
   "outputs": [],
   "source": [
    "import cv2\n",
    "from pyzbar.pyzbar import decode"
   ]
  },
  {
   "cell_type": "code",
   "execution_count": 2,
   "metadata": {},
   "outputs": [],
   "source": [
    "def BAR(location):\n",
    "    myData=False\n",
    "    img = cv2.imread(location)\n",
    "    for barcode in decode(img):\n",
    "        myData = barcode.data.decode('utf-8')\n",
    "    return myData"
   ]
  }
 ],
 "metadata": {
  "kernelspec": {
   "display_name": "Nutrition",
   "language": "python",
   "name": "nutrition"
  },
  "language_info": {
   "codemirror_mode": {
    "name": "ipython",
    "version": 3
   },
   "file_extension": ".py",
   "mimetype": "text/x-python",
   "name": "python",
   "nbconvert_exporter": "python",
   "pygments_lexer": "ipython3",
   "version": "3.9.13"
  }
 },
 "nbformat": 4,
 "nbformat_minor": 4
}
