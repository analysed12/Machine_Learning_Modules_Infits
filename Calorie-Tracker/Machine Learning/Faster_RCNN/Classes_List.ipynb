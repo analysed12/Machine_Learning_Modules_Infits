{
 "cells": [
  {
   "cell_type": "code",
   "execution_count": 1,
   "id": "5c211f19",
   "metadata": {},
   "outputs": [],
   "source": [
    "import numpy as np\n",
    "import os\n",
    "import pandas as pd"
   ]
  },
  {
   "cell_type": "code",
   "execution_count": 2,
   "id": "d36a5726",
   "metadata": {},
   "outputs": [],
   "source": [
    "pd.set_option('display.max_rows', None)\n",
    "pd.set_option('display.max_columns', None)\n",
    "pd.set_option('display.width', None)\n",
    "pd.set_option('display.max_colwidth', None)"
   ]
  },
  {
   "cell_type": "markdown",
   "id": "a465dd68",
   "metadata": {},
   "source": [
    "#### Get classes in train and test."
   ]
  },
  {
   "cell_type": "code",
   "execution_count": 3,
   "id": "ee037739",
   "metadata": {},
   "outputs": [],
   "source": [
    "#Files should be of the form 'class_name count.ext' else won't work. \n",
    "#Renaming is done as part of data preparation\n",
    "def create_classes_csv(TRAIN_DIR,TEST_DIR,CSV_NAME='Classes_list.csv'):\n",
    "    train_list=next(os.walk(TRAIN_DIR))[2]\n",
    "    train_list=list(set([\" \".join((x.split()[:-1])) for x in train_list]))\n",
    "    train_list=[i for i in train_list if i]\n",
    "    train_df=pd.DataFrame({'filename':train_list})\n",
    "    test_list=next(os.walk(TEST_DIR))[2]\n",
    "    test_list=list(set([\" \".join((x.split()[:-1])) for x in test_list]))\n",
    "    test_list=[i for i in test_list if i]\n",
    "    test_df=pd.DataFrame({'filename':test_list})\n",
    "    classes_list=pd.concat([train_df,test_df],ignore_index=True)\n",
    "    classes_list=classes_list.drop_duplicates(subset=['filename'])\n",
    "    classes_list.sort_values(by='filename', ascending=True,key=lambda col: col.str.lower(),inplace=True)\n",
    "    print(classes_list)\n",
    "    classes_list.to_csv(CSV_NAME, index=False)"
   ]
  }
 ],
 "metadata": {
  "kernelspec": {
   "display_name": "Food_Segmentation",
   "language": "python",
   "name": "food_segmentation"
  },
  "language_info": {
   "codemirror_mode": {
    "name": "ipython",
    "version": 3
   },
   "file_extension": ".py",
   "mimetype": "text/x-python",
   "name": "python",
   "nbconvert_exporter": "python",
   "pygments_lexer": "ipython3",
   "version": "3.7.11"
  }
 },
 "nbformat": 4,
 "nbformat_minor": 5
}
