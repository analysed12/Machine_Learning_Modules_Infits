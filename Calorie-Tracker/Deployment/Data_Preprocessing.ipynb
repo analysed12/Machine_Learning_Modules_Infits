{
  "cells": [
    {
      "cell_type": "markdown",
      "metadata": {
        "id": "view-in-github",
        "colab_type": "text"
      },
      "source": [
        "<a href=\"https://colab.research.google.com/github/DeveloperVivek9/Calorie-Tracker/blob/main/Deployment/Data_Preprocessing.ipynb\" target=\"_parent\"><img src=\"https://colab.research.google.com/assets/colab-badge.svg\" alt=\"Open In Colab\"/></a>"
      ]
    },
    {
      "cell_type": "code",
      "source": [
        "!pip install detecto"
      ],
      "metadata": {
        "colab": {
          "base_uri": "https://localhost:8080/"
        },
        "id": "2ZlrqM1mT-33",
        "outputId": "46fc79f7-8698-4ea6-e9c2-015fa3416e82"
      },
      "id": "2ZlrqM1mT-33",
      "execution_count": null,
      "outputs": [
        {
          "output_type": "stream",
          "name": "stdout",
          "text": [
            "Looking in indexes: https://pypi.org/simple, https://us-python.pkg.dev/colab-wheels/public/simple/\n",
            "Collecting detecto\n",
            "  Downloading detecto-1.2.2-py3-none-any.whl (25 kB)\n",
            "Requirement already satisfied: torch in /usr/local/lib/python3.8/dist-packages (from detecto) (1.13.0+cu116)\n",
            "Requirement already satisfied: matplotlib in /usr/local/lib/python3.8/dist-packages (from detecto) (3.2.2)\n",
            "Requirement already satisfied: tqdm in /usr/local/lib/python3.8/dist-packages (from detecto) (4.64.1)\n",
            "Requirement already satisfied: opencv-python in /usr/local/lib/python3.8/dist-packages (from detecto) (4.6.0.66)\n",
            "Requirement already satisfied: pandas in /usr/local/lib/python3.8/dist-packages (from detecto) (1.3.5)\n",
            "Requirement already satisfied: torchvision in /usr/local/lib/python3.8/dist-packages (from detecto) (0.14.0+cu116)\n",
            "Requirement already satisfied: cycler>=0.10 in /usr/local/lib/python3.8/dist-packages (from matplotlib->detecto) (0.11.0)\n",
            "Requirement already satisfied: pyparsing!=2.0.4,!=2.1.2,!=2.1.6,>=2.0.1 in /usr/local/lib/python3.8/dist-packages (from matplotlib->detecto) (3.0.9)\n",
            "Requirement already satisfied: kiwisolver>=1.0.1 in /usr/local/lib/python3.8/dist-packages (from matplotlib->detecto) (1.4.4)\n",
            "Requirement already satisfied: numpy>=1.11 in /usr/local/lib/python3.8/dist-packages (from matplotlib->detecto) (1.21.6)\n",
            "Requirement already satisfied: python-dateutil>=2.1 in /usr/local/lib/python3.8/dist-packages (from matplotlib->detecto) (2.8.2)\n",
            "Requirement already satisfied: six>=1.5 in /usr/local/lib/python3.8/dist-packages (from python-dateutil>=2.1->matplotlib->detecto) (1.15.0)\n",
            "Requirement already satisfied: pytz>=2017.3 in /usr/local/lib/python3.8/dist-packages (from pandas->detecto) (2022.6)\n",
            "Requirement already satisfied: typing-extensions in /usr/local/lib/python3.8/dist-packages (from torch->detecto) (4.4.0)\n",
            "Requirement already satisfied: pillow!=8.3.*,>=5.3.0 in /usr/local/lib/python3.8/dist-packages (from torchvision->detecto) (7.1.2)\n",
            "Requirement already satisfied: requests in /usr/local/lib/python3.8/dist-packages (from torchvision->detecto) (2.23.0)\n",
            "Requirement already satisfied: idna<3,>=2.5 in /usr/local/lib/python3.8/dist-packages (from requests->torchvision->detecto) (2.10)\n",
            "Requirement already satisfied: certifi>=2017.4.17 in /usr/local/lib/python3.8/dist-packages (from requests->torchvision->detecto) (2022.12.7)\n",
            "Requirement already satisfied: chardet<4,>=3.0.2 in /usr/local/lib/python3.8/dist-packages (from requests->torchvision->detecto) (3.0.4)\n",
            "Requirement already satisfied: urllib3!=1.25.0,!=1.25.1,<1.26,>=1.21.1 in /usr/local/lib/python3.8/dist-packages (from requests->torchvision->detecto) (1.24.3)\n",
            "Installing collected packages: detecto\n",
            "Successfully installed detecto-1.2.2\n"
          ]
        }
      ]
    },
    {
      "cell_type": "code",
      "execution_count": null,
      "id": "4485e622",
      "metadata": {
        "id": "4485e622"
      },
      "outputs": [],
      "source": [
        "import cv2\n",
        "from detecto.utils import read_image\n",
        "from glob import glob\n",
        "from google.colab import drive\n",
        "import io\n",
        "import json\n",
        "import os\n",
        "import pandas as pd\n",
        "import re\n",
        "import shutil\n",
        "import xml.etree.cElementTree as ET"
      ]
    },
    {
      "cell_type": "code",
      "source": [
        "#Check if classes extracted is in classes_list.csv or not. If not, we have to remove them or add them to another csv file.\n",
        "#Remove duplicate rows from csv where duplicate check for everything except image id, bndbox id since they get generated from previous rows"
      ],
      "metadata": {
        "id": "Z0EjLyrExf2n"
      },
      "id": "Z0EjLyrExf2n",
      "execution_count": null,
      "outputs": []
    },
    {
      "cell_type": "code",
      "source": [
        "#Function to move given file list from source directory to destination directory.\n",
        "#file_list should only contain filenames not folder names.\n",
        "#move=True if we want to move the files instead of copying.\n",
        "def move_given_files(source_dir,destination_dir,file_list=None,move=False):\n",
        "    \"\"\"\n",
        "    Moves files in file_list from source_dir to destination_dir.\n",
        "    If no file list given, moves everything.\n",
        "    move=False means copy else it will move the contents.\n",
        "    \"\"\"\n",
        "    os.makedirs(destination_dir,exist_ok=True)\n",
        "    if(file_list==None):\n",
        "      file_list=next(os.walk(source_dir))[2]\n",
        "    for file_name in file_list:\n",
        "        if(move):\n",
        "            #Since we are using shutil.move and shutil.copy for this with \n",
        "            #copy_function paramater NOT copytree, this is viable only for files not folders. \n",
        "            #shutil.move(source_dir+file_name, destination_dir+file_name,copy_function = shutil.copytree)\n",
        "            #filesystem metadata may not be copied since shutil has a few issues. [metadata here means things like author, data modified]\n",
        "            shutil.move(source_dir+file_name, destination_dir+file_name)\n",
        "        else:\n",
        "            shutil.copy(source_dir+file_name, destination_dir+file_name)"
      ],
      "metadata": {
        "id": "zkRZUJrMkMaC"
      },
      "id": "zkRZUJrMkMaC",
      "execution_count": null,
      "outputs": []
    },
    {
      "cell_type": "code",
      "source": [
        "#Design philosophy\n",
        "#The csv file is like a database for bounding boxes instead of images. \n",
        "#Why bounding box instead of images? -> Bounding box are the simplest unit. \n",
        "#An image can have multiple bounding boxes, not the other way around. \n",
        "#This design also helps in removing bounding boxes that are done incorrectly instead of removing the images altogether.  \n",
        "#Only annotated images are moved into the database/csv. [Database - csv used interchangeably since logic same]"
      ],
      "metadata": {
        "id": "UBNr0NdKIMz9"
      },
      "id": "UBNr0NdKIMz9",
      "execution_count": null,
      "outputs": []
    },
    {
      "cell_type": "code",
      "source": [
        "#DB -> id, image_path, image_name, width, height, class, xmin, ymin, xmax, ymax, Batch. \n",
        "#Here id will be for each bounding box since image can have multiple bounding boxes, multiple classes. Only unique identifier can be bounding box. \n",
        "#image_path so that we can easily change blob store or file systems\n",
        "#image_name -> Name of image\n",
        "#   Naming format should be specific. Every image name will correspond to (class name + id.ext). \n",
        "#   If multiple classes -> something to signify this\n",
        "#   If augmentation is done, (classname + id + augmentation_type.extension)\n",
        "#   We can filter out images where augmentation is not done. \n",
        "#   Depending on requirements, naming conventions should change. Name should be treated like id itself. \n",
        "#   Image id being there so that we can trace back in case some accidental change.\n",
        "#width -> width of the image\n",
        "#height -> height of the image\n",
        "#class -> class of each bounding box. We can be sure that this corresponds to only one class. \n",
        "#We are specifying xmin, ymin, xmax, ymax so that we are aware of the format that is being used. \n",
        "#Batch in which it was trained in. 0 means it was trained before batch-wise training. \n",
        "#bndbox_df = pd.DataFrame(columns=['Bndbox ID','Image ID','Image Path','Image Name','Height','Width','Class','xmin','ymin','xmax','ymax','Batch'])\n",
        "#bndbox_df.to_csv('Image Metadata.csv',encoding='utf-8', index=False)"
      ],
      "metadata": {
        "id": "7bjRIdRxJaFx"
      },
      "id": "7bjRIdRxJaFx",
      "execution_count": null,
      "outputs": []
    },
    {
      "cell_type": "code",
      "source": [
        "#csv file containing problematic image filenames [see function below]\n",
        "#bad_files_df = pd.DataFrame(columns=['Image Name','Reason'])\n",
        "#bad_files_df.to_csv('Bad Files.csv',encoding='utf-8', index=False)"
      ],
      "metadata": {
        "id": "Dl914pnkM-DP"
      },
      "id": "Dl914pnkM-DP",
      "execution_count": null,
      "outputs": []
    },
    {
      "cell_type": "code",
      "source": [
        "def class_in_list(s,string):\n",
        "  \"\"\"\n",
        "  Returns string in s. This is to see whether class name exists in list(class_name). \n",
        "  This written as a function so that we can apply it on the dataframe.\n",
        "  \"\"\"\n",
        "  return string in s"
      ],
      "metadata": {
        "id": "YSRY-cLIqoBN"
      },
      "id": "YSRY-cLIqoBN",
      "execution_count": null,
      "outputs": []
    },
    {
      "cell_type": "code",
      "execution_count": null,
      "id": "7da5b0a7",
      "metadata": {
        "id": "7da5b0a7"
      },
      "outputs": [],
      "source": [
        "#read csv xml_file\n",
        "#write dataframe onto csv xml_file\n",
        "def data_entry(class_dir,destination_dir,disparity_dir,image_extension_list=['.jpg', '.png', '.jpeg', '.JPG', '.webp', '.cms', '.jfif'],image_metadata_csv='Image Metadata.csv',bad_file_csv='Bad Files.csv',classes_list_csv=\"Classes_List.csv\"):\n",
        "  \"\"\"\n",
        "  Returns start and end index of added files in csv xml_file\n",
        "  Moves proper data from class directory to destination directory while adding data onto csv xml_file.\n",
        "  Gets data from xml files, reads every image.\n",
        "  If data is proper and image is readable, writes onto a csv xml_file, both the files moved to destination directory.\n",
        "  Else, xml xml_file along with image moved to disparity folder.\n",
        "  Renames every image and xml xml_file with a name corresponding to id so that data isn't duplicated or replaced.  \n",
        "  Requirements\n",
        "    xml filename and image filename must be the same. \n",
        "    xml xml_file must follow pascal voc format only. \n",
        "  \"\"\"\n",
        "  os.makedirs(disparity_dir,exist_ok=True)\n",
        "  os.makedirs(destination_dir,exist_ok=True)\n",
        "  classes_df=pd.read_csv(classes_list_csv)\n",
        "  #classes_df['Synonym']='Hart'\n",
        "  #List of files that either have wrong bounding box coordinates or an unreadable image\n",
        "  try:\n",
        "    bndbox_df=pd.read_csv(image_metadata_csv)\n",
        "  except FileNotFoundError:\n",
        "    bndbox_df = pd.DataFrame(columns=['Bndbox ID','Image ID','Image Path','Image Name','Height','Width','Class','xmin','ymin','xmax','ymax','Batch'])\n",
        "  \n",
        "  #Get rows on Image metadata.csv which got added when function is called. If end_index=start_index, no entries added.\n",
        "  try:\n",
        "    start_index=bndbox_df.index[-1]+1\n",
        "  except:\n",
        "    start_index=0\n",
        "  end_index=start_index\n",
        "\n",
        "  try:\n",
        "    bad_df=pd.read_csv(bad_file_csv)\n",
        "  except FileNotFoundError:\n",
        "    bad_df = pd.DataFrame(columns=['Image Name','XML Name','File name','Reason'])\n",
        "\n",
        "  #List of files \n",
        "  file_list=next(os.walk(class_dir))[2]\n",
        "  #Adds file having extension not in image extension list or xml to BAD_DICT\n",
        "  for item in [x for x in file_list if os.path.splitext(x)[1] not in image_extension_list+[\".xml\"]]:\n",
        "    shutil.move(class_dir+item, disparity_dir+str(len(bad_df.index))+\" \"+item)\n",
        "    bad_df.loc[len(bad_df.index)]=[None,None,str(len(bad_df.index))+\" \"+item,'Bad Extension']   \n",
        "\n",
        "  #List of files having xml extension\n",
        "  xml_file_list=glob(class_dir+\"*.xml\")\n",
        "  #To extract filename.extension from path+filename.extension [Here just xml extension since xml_file_list contains only xml files, see previous line]\n",
        "  xml_file_list=[name.replace(class_dir[:-1]+\"/\",\"\") for name in xml_file_list]            \n",
        "  image_list=[]\n",
        "  #Get list of files having extension equal to image extension in image extension list.\n",
        "  for ext in image_extension_list:\n",
        "    image_list.extend(glob(class_dir+'*'+ext))\n",
        "  image_list=[name.replace(class_dir[:-1]+\"/\",\"\") for name in image_list]\n",
        "  #Get unique values in the list since .jpg == .JPG. It will occur twice in the xml_file list.\n",
        "  image_list=[*set(image_list)]\n",
        "  #print(xml_file_list,image_list)\n",
        "  for xml_file in xml_file_list:\n",
        "    #Image name of the current xml xml_file. [They have the same filename]\n",
        "    image_name=[x for x in image_list if os.path.splitext(xml_file)[0]==os.path.splitext(x)[0]]\n",
        "\n",
        "    #Image doesn't exist for xml xml_file\n",
        "    if(len(image_name)<1):\n",
        "      shutil.move(class_dir+xml_file, disparity_dir+str(len(bad_df.index))+\" \"+xml_file)\n",
        "      bad_df.loc[len(bad_df.index)]=[None,str(len(bad_df.index))+\" \"+xml_file,None,'No Image Found']     \n",
        "      print(\"No Image Found\")\n",
        "      continue\n",
        "\n",
        "    image_name, = image_name\n",
        "    print(\"At XML File : \",xml_file,\" Image File : \",image_name)\n",
        "    #Trying to read image\n",
        "    try:\n",
        "      img=read_image(class_dir+image_name)\n",
        "      #Unpacking into three values where we need the first two -> height, width of the image\n",
        "      height,width=img.shape[0:2]\n",
        "    #image unreadable or doesn't exist.\n",
        "    except ValueError:\n",
        "      shutil.move(class_dir+xml_file, disparity_dir+str(len(bad_df.index))+\" \"+xml_file)\n",
        "      shutil.move(class_dir+image_name, disparity_dir+str(len(bad_df.index))+\" \"+image_name)\n",
        "      bad_df.loc[len(bad_df.index)]=[str(len(bad_df.index))+\" \"+image_name,str(len(bad_df.index))+\" \"+xml_file,None,'Image Unreadable'] \n",
        "      print(\"Image Unreadable\")  \n",
        "      continue\n",
        "\n",
        "    \"\"\"-------------------------------------------------------------------------------------------------------------------------------\"\"\"\n",
        "    #Get required details from xml xml_file\n",
        "    try:\n",
        "      tree=ET.parse(class_dir+xml_file)\n",
        "    except ET.ParseError:\n",
        "      shutil.move(class_dir+xml_file, disparity_dir+str(len(bad_df.index))+\" \"+xml_file)\n",
        "      shutil.move(class_dir+image_name, disparity_dir+str(len(bad_df.index))+\" \"+image_name)\n",
        "      bad_df.loc[len(bad_df.index)]=[str(len(bad_df.index))+\" \"+image_name,str(len(bad_df.index))+\" \"+xml_file,None,'XML Unreadable']   \n",
        "      continue\n",
        "    root = tree.getroot()\n",
        "    bndbox=list()\n",
        "    unique_file_name=list()\n",
        "    flag1=False\n",
        "    for box in root.findall('.//object'):\n",
        "      #unique xml_file name + image_id -> is what we will rename the image\n",
        "      #This naming convention is considering multiclass images where we can't keep track of every class combination using count. \n",
        "      #Therefore since image id is unique, the probability of duplicates is none.\n",
        "      #Regex below is to remove special characters & numbers then capitalize first letters of every word.\n",
        "      #We are removing numbers here since food names usually don't have numbers. If somehow that changes, make necessary changes here.\n",
        "      class_name_in_bndbox=(re.sub(r\"[^a-zA-Z]+\", ' ',box.find('.//name').text)).title().strip()\n",
        "\n",
        "      if(class_name_in_bndbox not in list(classes_df['Class Name'])):\n",
        "        if(classes_df['Synonym'].apply(class_in_list,args=([class_name_in_bndbox])).any()):\n",
        "          i=classes_df['Synonym'].apply(class_in_list,args=([class_name_in_bndbox])).index[0]\n",
        "          class_name_in_bndbox=classes_df.iloc[i]['Class Name']\n",
        "        else:\n",
        "          flag1=True\n",
        "          break\n",
        "\n",
        "      unique_file_name.append(class_name_in_bndbox)\n",
        "      bndbox.append(box.find('.//xmin').text)\n",
        "      bndbox.append(box.find('.//ymin').text)\n",
        "      bndbox.append(box.find('.//xmax').text)\n",
        "      bndbox.append(box.find('.//ymax').text)\n",
        "\n",
        "    #If class in xml file doesn't exist in classes_list.csv. The model would throw an error since it doesn't recognize class\n",
        "    if(flag1):\n",
        "      shutil.move(class_dir+xml_file, disparity_dir+str(len(bad_df.index))+\" \"+xml_file)\n",
        "      shutil.move(class_dir+image_name, disparity_dir+str(len(bad_df.index))+\" \"+image_name)\n",
        "      bad_df.loc[len(bad_df.index)]=[str(len(bad_df.index))+\" \"+image_name,str(len(bad_df.index))+\" \"+xml_file,None,'New Class or Incorrect Class']\n",
        "      print('New Class or Incorrect Class')\n",
        "      continue\n",
        "\n",
        "    #Sets a flag if xmin > = xmax or ymin > = ymax\n",
        "    count=0\n",
        "    flag=False\n",
        "    bndbox=[int(x) for x in [float(x) for x in bndbox]]\n",
        "    for i in range(0,len(bndbox),4):\n",
        "      if(bndbox[0+count*4]>=bndbox[2+count*4] or bndbox[1+count*4]>=bndbox[3+count*4]):\n",
        "        flag=True\n",
        "      count+=1\n",
        "\n",
        "    if(len(bndbox)%4!=0 or flag or len(bndbox)==0):\n",
        "      shutil.move(class_dir+xml_file, disparity_dir+str(len(bad_df.index))+\" \"+xml_file)\n",
        "      shutil.move(class_dir+image_name, disparity_dir+str(len(bad_df.index))+\" \"+image_name)\n",
        "      bad_df.loc[len(bad_df.index)]=[str(len(bad_df.index))+\" \"+image_name,str(len(bad_df.index))+\" \"+xml_file,None,'Wrong Bounding Box']\n",
        "      print(\"Wrong Bounding Box\")\n",
        "      continue\n",
        "    \"\"\"-------------------------------------------------------------------------------------------------------------------------------\"\"\"\n",
        "    #If the code block reaches till here it means the file is good to be added to our database.   \n",
        "    try:\n",
        "      unique_file_name=\"_\".join(sorted(list(set(unique_file_name))))+\" \"+str(bndbox_df[\"Image ID\"].iloc[-1]+1)\n",
        "      image_id=bndbox_df[\"Image ID\"].iloc[-1]+1\n",
        "    except IndexError:\n",
        "      unique_file_name=\"_\".join(sorted(list(set(unique_file_name))))+\" \"+str(0)\n",
        "      image_id=0\n",
        "    \n",
        "\n",
        "    for box in root.findall('.//object'):\n",
        "      try:\n",
        "        bndbox_id=bndbox_df[\"Bndbox ID\"].iloc[-1]+1\n",
        "      except IndexError: \n",
        "        bndbox_id=0\n",
        "      image_path=destination_dir\n",
        "      #New name of image will be unique_file_name + extension \n",
        "      #extension which is given by os.path.splitext(image_name)[1]\n",
        "      new_image_name=unique_file_name+os.path.splitext(image_name)[1]\n",
        "      #Remove special characters, numbers from class name. Capitalize first letter.\n",
        "      class_name=(re.sub(r\"[^a-zA-Z]+\", ' ',box.find('.//name').text)).title().strip()\n",
        "      xmin=int(box.find('.//xmin').text)\n",
        "      ymin=int(box.find('.//ymin').text)\n",
        "      xmax=int(box.find('.//xmax').text)\n",
        "      ymax=int(box.find('.//ymax').text)\n",
        "      batch=None\n",
        "      #Add information to dataframe. \n",
        "      print(bndbox_id,image_id,image_path,new_image_name,height,width,class_name,xmin,ymin,xmax,ymax,batch, \" Written\")\n",
        "      bndbox_df.loc[len(bndbox_df.index)]=[bndbox_id,image_id,image_path,new_image_name,height,width,class_name,xmin,ymin,xmax,ymax,batch]\n",
        "      end_index+=1\n",
        "    #We will rename using shutil.move itself\n",
        "    shutil.move(class_dir+image_name, destination_dir+unique_file_name+os.path.splitext(image_name)[1])\n",
        "    shutil.move(class_dir+xml_file, destination_dir+unique_file_name+os.path.splitext(xml_file)[1])\n",
        "\n",
        "  bndbox_df.to_csv(image_metadata_csv,encoding='utf-8', index=False)\n",
        "  bad_df.to_csv(bad_file_csv,encoding='utf-8', index=False)\n",
        "  return start_index,end_index       "
      ]
    },
    {
      "cell_type": "code",
      "source": [
        "\"\"\"\n",
        "drive.mount('/content/drive')#, force_remount=True)\n",
        "base_path='/content/drive/MyDrive/Experiment/Unannotated/'\n",
        "disparity_dir='/content/drive/MyDrive/Experiment/Disparity/'\n",
        "destination_dir='/content/drive/MyDrive/Experiment/Annotated/'\n",
        "#os.remove('/content/drive/MyDrive/Experiment/Image Metadata.csv')\n",
        "os.remove('/content/drive/MyDrive/Experiment/Bad Files.csv')\n",
        "try:\n",
        "  shutil.rmtree(base_path)\n",
        "except FileNotFoundError:\n",
        "  pass\n",
        "try:\n",
        "  shutil.rmtree(disparity_dir)\n",
        "except FileNotFoundError:\n",
        "  pass\n",
        "try:\n",
        "  shutil.rmtree(destination_dir)\n",
        "except FileNotFoundError:\n",
        "  pass\n",
        "shutil.copytree('/content/drive/MyDrive/Experiment/Backup',base_path)\n",
        "image_extension_list=['.jpg', '.png', '.jpeg', '.JPG', '.webp', '.cms', '.jfif']\n",
        "for i in next(os.walk(base_path))[1]:\n",
        "  data_entry(base_path+i,destination_dir,disparity_dir,image_extension_list,base_path+i+'/Image Metadata.csv',base_path+i+'/Bad Files.csv',base_path+i+\"/Classes_List.csv\")\n",
        "data_entry(base_path,destination_dir,disparity_dir,image_extension_list,base_path+'Image Metadata.csv',base_path+'Bad Files.csv',base_path+\"Classes_List.csv\")\n",
        "\"\"\""
      ],
      "metadata": {
        "colab": {
          "base_uri": "https://localhost:8080/"
        },
        "id": "BrTIIAFmD54t",
        "outputId": "1d96d710-65b3-411b-97e6-d140ba735852"
      },
      "id": "BrTIIAFmD54t",
      "execution_count": null,
      "outputs": [
        {
          "output_type": "stream",
          "name": "stdout",
          "text": [
            "In :  BAD_XML_4.jpg\n",
            "In :  GOOD_XML_1.jpg\n",
            "In :  BAD_XML_3.jpg\n",
            "In :  BAD_XML_1.jpg\n",
            "In :  BAD_XML_2.jpg\n",
            "In :  CLASS_NAME_NOT_IN_CSV.jpg\n",
            "In :  GOOD_XML_2.jpg\n",
            "2 1 /content/drive/MyDrive/Experiment/Annotated/ Aaloo Chips 1.jpg 549 731 Aaloo Chips 378 57 613 189 None  Written\n",
            "3 1 /content/drive/MyDrive/Experiment/Annotated/ Aaloo Chips 1.jpg 549 731 Aaloo Chips 200 100 613 189 None  Written\n"
          ]
        },
        {
          "output_type": "execute_result",
          "data": {
            "text/plain": [
              "(2, 4)"
            ]
          },
          "metadata": {},
          "execution_count": 10
        }
      ]
    },
    {
      "cell_type": "code",
      "source": [
        "\"\"\"\n",
        "for i in next(os.walk(base_path))[1]:\n",
        "  data_entry(base_path+i+'/',destination_dir,disparity_dir,image_extension_list)\n",
        "data_entry(base_path,destination_dir,disparity_dir,image_extension_list)\n",
        "\"\"\""
      ],
      "metadata": {
        "id": "u87T9l6EwIWh"
      },
      "id": "u87T9l6EwIWh",
      "execution_count": null,
      "outputs": []
    },
    {
      "cell_type": "markdown",
      "source": [
        "# Database"
      ],
      "metadata": {
        "id": "gwrQ6rLe-0pl"
      },
      "id": "gwrQ6rLe-0pl"
    },
    {
      "cell_type": "markdown",
      "source": [
        "https://stackoverflow.com/questions/72234035/python-code-to-connect-to-mysql-database-doesnt-work-on-google-colab\n",
        "![Screenshot 2022-12-28 051410.png](data:image/png;base64,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)"
      ],
      "metadata": {
        "id": "lNJHmbOa-X1q"
      },
      "id": "lNJHmbOa-X1q"
    },
    {
      "cell_type": "code",
      "source": [
        "\"\"\"\n",
        "!pip install mysql.connector\n",
        "\"\"\""
      ],
      "metadata": {
        "colab": {
          "base_uri": "https://localhost:8080/"
        },
        "id": "_ma9OTKV9F3D",
        "outputId": "fa7fc3d7-f046-48f1-dfd7-b4072e0eff63"
      },
      "id": "_ma9OTKV9F3D",
      "execution_count": null,
      "outputs": [
        {
          "output_type": "stream",
          "name": "stdout",
          "text": [
            "Looking in indexes: https://pypi.org/simple, https://us-python.pkg.dev/colab-wheels/public/simple/\n",
            "Collecting mysql.connector\n",
            "  Downloading mysql-connector-2.2.9.tar.gz (11.9 MB)\n",
            "\u001b[K     |████████████████████████████████| 11.9 MB 6.8 MB/s \n",
            "\u001b[?25hBuilding wheels for collected packages: mysql.connector\n",
            "  Building wheel for mysql.connector (setup.py) ... \u001b[?25l\u001b[?25hdone\n",
            "  Created wheel for mysql.connector: filename=mysql_connector-2.2.9-cp38-cp38-linux_x86_64.whl size=247965 sha256=aa6905905611aacd39850bd9b278c9a59f3d7587bc41193f787566c8140c9210\n",
            "  Stored in directory: /root/.cache/pip/wheels/57/e4/98/5feafb5c393dd2540e44b064a6f95832990d543e5b4f53ea8f\n",
            "Successfully built mysql.connector\n",
            "Installing collected packages: mysql.connector\n",
            "Successfully installed mysql.connector-2.2.9\n"
          ]
        }
      ]
    },
    {
      "cell_type": "code",
      "source": [
        "\"\"\"\n",
        "import mysql.connector as msql\n",
        "from mysql.connector import Error\n",
        "try:\n",
        "    conn = msql.connect(host='localhost', user='root',  \n",
        "                        password='root@123')#give ur username, password\n",
        "    if conn.is_connected():\n",
        "        cursor = conn.cursor()\n",
        "        cursor.execute(\"CREATE DATABASE employee\")\n",
        "        print(\"Database is created\")\n",
        "except Error as e:\n",
        "    print(\"Error while connecting to MySQL\", e)\n",
        "\"\"\""
      ],
      "metadata": {
        "id": "K0ZKburHiTsf"
      },
      "id": "K0ZKburHiTsf",
      "execution_count": null,
      "outputs": []
    },
    {
      "cell_type": "code",
      "source": [
        "\"\"\"\n",
        "#Create csv file then simply add it into the database\n",
        "try:\n",
        "    conn = mysql.connect(host='localhost', database='employee', user='root', password='root@123')\n",
        "    if conn.is_connected():\n",
        "        cursor = conn.cursor()\n",
        "        cursor.execute(\"select database();\")\n",
        "        record = cursor.fetchone()\n",
        "        print(\"You're connected to database: \", record)\n",
        "        cursor.execute('DROP TABLE IF EXISTS employee_data;')\n",
        "        print('Creating table....')\n",
        "# in the below line please pass the create table statement which you want #to create\n",
        "        cursor.execute(\"CREATE TABLE employee_data(first_name varchar(255),last_name varchar(255),company_name varchar(255),address varchar(255),city varchar(255),county varchar(255),state varchar(255),zip int,phone1 varchar(255),phone2 varchar(255),email varchar(255),web varchar(255))\")\n",
        "        print(\"Table is created....\")\n",
        "        #loop through the data frame\n",
        "        for i,row in empdata.iterrows():\n",
        "            #here %S means string values \n",
        "            sql = \"INSERT INTO employee.employee_data VALUES (%s,%s,%s,%s,%s,%s,%s,%s,%s,%s,%s,%s)\"\n",
        "            cursor.execute(sql, tuple(row))\n",
        "            print(\"Record inserted\")\n",
        "            # the connection is not auto committed by default, so we must commit to save our changes\n",
        "            conn.commit()\n",
        "except Error as e:\n",
        "    print(\"Error while connecting to MySQL\", e)\n",
        "\"\"\""
      ],
      "metadata": {
        "id": "N5erqNpgYEj7"
      },
      "id": "N5erqNpgYEj7",
      "execution_count": null,
      "outputs": []
    },
    {
      "cell_type": "code",
      "source": [
        "\"\"\"\n",
        "# Execute query\n",
        "sql = \"SELECT * FROM employee.employee_data\"\n",
        "cursor.execute(sql)\n",
        "# Fetch all the records\n",
        "result = cursor.fetchall()\n",
        "for i in result:\n",
        "    print(i)\n",
        "\"\"\""
      ],
      "metadata": {
        "id": "GrlxrQWoYPZD"
      },
      "id": "GrlxrQWoYPZD",
      "execution_count": null,
      "outputs": []
    }
  ],
  "metadata": {
    "kernelspec": {
      "display_name": "Python 3 (ipykernel)",
      "language": "python",
      "name": "python3"
    },
    "language_info": {
      "codemirror_mode": {
        "name": "ipython",
        "version": 3
      },
      "file_extension": ".py",
      "mimetype": "text/x-python",
      "name": "python",
      "nbconvert_exporter": "python",
      "pygments_lexer": "ipython3",
      "version": "3.9.13"
    },
    "colab": {
      "provenance": [],
      "collapsed_sections": [
        "gwrQ6rLe-0pl"
      ],
      "include_colab_link": true
    }
  },
  "nbformat": 4,
  "nbformat_minor": 5
}