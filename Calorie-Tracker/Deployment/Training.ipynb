{
  "cells": [
    {
      "cell_type": "markdown",
      "metadata": {
        "id": "view-in-github",
        "colab_type": "text"
      },
      "source": [
        "<a href=\"https://colab.research.google.com/github/DeveloperVivek9/Calorie-Tracker/blob/main/Deployment/Training.ipynb\" target=\"_parent\"><img src=\"https://colab.research.google.com/assets/colab-badge.svg\" alt=\"Open In Colab\"/></a>"
      ]
    },
    {
      "cell_type": "code",
      "source": [
        "!pip install torch==1.9.0\n",
        "!pip install torchvision==0.10.0\n",
        "!pip install detecto"
      ],
      "metadata": {
        "id": "QGZkA3YnwW1A",
        "outputId": "0bd556f5-86df-4989-c76a-cf1c3e4e2012",
        "colab": {
          "base_uri": "https://localhost:8080/"
        }
      },
      "execution_count": null,
      "outputs": [
        {
          "output_type": "stream",
          "name": "stdout",
          "text": [
            "Looking in indexes: https://pypi.org/simple, https://us-python.pkg.dev/colab-wheels/public/simple/\n",
            "Collecting torch==1.9.0\n",
            "  Downloading torch-1.9.0-cp38-cp38-manylinux1_x86_64.whl (831.4 MB)\n",
            "\u001b[K     |████████████████████████████████| 831.4 MB 14 kB/s \n",
            "\u001b[?25hRequirement already satisfied: typing-extensions in /usr/local/lib/python3.8/dist-packages (from torch==1.9.0) (4.4.0)\n",
            "Installing collected packages: torch\n",
            "  Attempting uninstall: torch\n",
            "    Found existing installation: torch 1.13.0+cu116\n",
            "    Uninstalling torch-1.13.0+cu116:\n",
            "      Successfully uninstalled torch-1.13.0+cu116\n",
            "\u001b[31mERROR: pip's dependency resolver does not currently take into account all the packages that are installed. This behaviour is the source of the following dependency conflicts.\n",
            "torchvision 0.14.0+cu116 requires torch==1.13.0, but you have torch 1.9.0 which is incompatible.\n",
            "torchtext 0.14.0 requires torch==1.13.0, but you have torch 1.9.0 which is incompatible.\n",
            "torchaudio 0.13.0+cu116 requires torch==1.13.0, but you have torch 1.9.0 which is incompatible.\u001b[0m\n",
            "Successfully installed torch-1.9.0\n"
          ]
        }
      ]
    },
    {
      "cell_type": "code",
      "execution_count": null,
      "metadata": {
        "id": "Dkml4wiuwQxc"
      },
      "outputs": [],
      "source": [
        "import cv2\n",
        "from detecto import core, utils\n",
        "from detecto.core import Dataset,DataLoader,Model\n",
        "from detecto.utils import read_image\n",
        "from detecto.utils import xml_to_csv\n",
        "from google.colab import drive\n",
        "import numpy as np\n",
        "import pandas as pd\n",
        "import os\n",
        "import shutil\n",
        "import torch\n",
        "from torchvision import transforms"
      ]
    },
    {
      "cell_type": "code",
      "source": [
        "\"\"\"\n",
        "drive.mount(\"/content/drive\")\n",
        "\"\"\""
      ],
      "metadata": {
        "id": "m2eh0yrCmh3Y",
        "colab": {
          "base_uri": "https://localhost:8080/"
        },
        "outputId": "5024d87b-c2b9-4971-b2ac-c63225493c6c"
      },
      "execution_count": null,
      "outputs": [
        {
          "output_type": "stream",
          "name": "stdout",
          "text": [
            "Mounted at /content/drive\n"
          ]
        }
      ]
    },
    {
      "cell_type": "code",
      "source": [
        "def Initial_Training(base_path):\n",
        "  \"\"\"\n",
        "  base_path to contain -> train_labels.csv, test_labels.csv, Annotated folder which is the image folder.\n",
        "  We save the model in base_path.\n",
        "  \"\"\"\n",
        "  TRAIN_PATH = os.path.abspath(os.path.join(base_path,'Annotated'))\n",
        "  TRAIN_LABEL_PATH = os.path.abspath(os.path.join(base_path,'train_labels.csv'))\n",
        "  TEST_PATH = os.path.abspath(os.path.join(base_path,'Annotated'))\n",
        "  TEST_LABEL_PATH = os.path.abspath(os.path.join(base_path,'test_labels.csv'))\n",
        "  Train_dataset = Dataset(TRAIN_LABEL_PATH,TRAIN_PATH)\n",
        "  Test_dataset = Dataset(TEST_LABEL_PATH,TEST_PATH)\n",
        "  classes_list_df=pd.read_csv(base_path+'Classes_List.csv')\n",
        "  classes_list=list(classes_list_df['Class Name'])\n",
        "  torch.cuda.empty_cache()\n",
        "  loader=DataLoader(Train_dataset, batch_size=1, shuffle=True)\n",
        "  model = Model(classes_list)\n",
        "  losses = model.fit(loader, Test_dataset, epochs=15, lr_step_size=5, learning_rate=0.001, verbose=True)\n",
        "  model.save(base_path+'model_weights 0.pth')  "
      ],
      "metadata": {
        "id": "9x69R_wqMl9Q"
      },
      "execution_count": null,
      "outputs": []
    },
    {
      "cell_type": "code",
      "source": [
        "def Online_Training(base_path,count):\n",
        "  \"\"\"\n",
        "  base_path to contain -> train_labels.csv, test_labels.csv, 'Annotated' folder which contains the images.\n",
        "  We save the model in base_path.\n",
        "  \"\"\"\n",
        "  TRAIN_PATH = os.path.abspath(os.path.join(base_path,'Annotated'))\n",
        "  TRAIN_LABEL_PATH = os.path.abspath(os.path.join(base_path,'train_labels.csv'))\n",
        "  TEST_PATH = os.path.abspath(os.path.join(base_path,'Annotated'))\n",
        "  TEST_LABEL_PATH = os.path.abspath(os.path.join(base_path,'test_labels.csv'))\n",
        "  Train_dataset = Dataset(TRAIN_LABEL_PATH,TRAIN_PATH)\n",
        "  Test_dataset = Dataset(TEST_LABEL_PATH,TEST_PATH)\n",
        "  classes_list_df=pd.read_csv(base_path+'Classes_List.csv')\n",
        "  classes_list=list(classes_list_df['Class Name'])\n",
        "  torch.cuda.empty_cache()\n",
        "  loader=DataLoader(Train_dataset, batch_size=1, shuffle=True)\n",
        "  model = Model.load(base_path+'model_weights '+str(count-1)+'.pth', classes_list)\n",
        "  losses = model.fit(loader, Test_dataset, epochs=10, lr_step_size=5, learning_rate=0.00001, verbose=True)\n",
        "  model.save(base_path+'model_weights '+str(count)+'.pth')  "
      ],
      "metadata": {
        "id": "HZUDSVfr1sul"
      },
      "execution_count": null,
      "outputs": []
    },
    {
      "cell_type": "code",
      "source": [
        "\"\"\"\n",
        "base_path=\"/content/drive/MyDrive/Experiment/\"\n",
        "Initial_Training(base_path)\n",
        "\"\"\""
      ],
      "metadata": {
        "colab": {
          "base_uri": "https://localhost:8080/",
          "height": 251,
          "referenced_widgets": [
            "3583cd6689f74d5395e8774661f5ea10",
            "5849b6dc0ff1421ea60d1905080ad997",
            "256d496d01b64d79a1c8795cbc191d81",
            "fd1e676af2e84fc29fb4221701ffb0b1",
            "0d27600e3da7405fbecf9ad68d921a1a",
            "11e8b276cc234b5ea4e9ad3c64f33a03",
            "e44333a9c46a4ee1b0143dcf4292c566",
            "eb892deb599f48c0ae02ca2621f38977",
            "2a3882ddc76c4a8b9c9bd5b7408ca69c",
            "fe0ee94b597f4002bc0062baa7fbe794",
            "b64a4d6c3a4b4f24b0ed16b60dff6055"
          ]
        },
        "id": "iHeeY61hOZ3f",
        "outputId": "307ff02c-8126-4047-b879-a4476acd166a"
      },
      "execution_count": null,
      "outputs": [
        {
          "output_type": "stream",
          "name": "stderr",
          "text": [
            "Downloading: \"https://download.pytorch.org/models/fasterrcnn_resnet50_fpn_coco-258fb6c6.pth\" to /root/.cache/torch/hub/checkpoints/fasterrcnn_resnet50_fpn_coco-258fb6c6.pth\n"
          ]
        },
        {
          "output_type": "display_data",
          "data": {
            "text/plain": [
              "  0%|          | 0.00/160M [00:00<?, ?B/s]"
            ],
            "application/vnd.jupyter.widget-view+json": {
              "version_major": 2,
              "version_minor": 0,
              "model_id": "3583cd6689f74d5395e8774661f5ea10"
            }
          },
          "metadata": {}
        },
        {
          "output_type": "stream",
          "name": "stdout",
          "text": [
            "It looks like you're training your model on a CPU. Consider switching to a GPU; otherwise, this method can take hours upon hours or even days to finish. For more information, see https://detecto.readthedocs.io/en/latest/usage/quickstart.html#technical-requirements\n",
            "Epoch 1 of 1\n",
            "Begin iterating over training dataset\n"
          ]
        },
        {
          "output_type": "stream",
          "name": "stderr",
          "text": [
            "\r  0%|          | 0/3 [00:00<?, ?it/s]/usr/local/lib/python3.8/dist-packages/torch/nn/functional.py:718: UserWarning: Named tensors and all their associated APIs are an experimental feature and subject to change. Please do not use them for anything important until they are released as stable. (Triggered internally at  /pytorch/c10/core/TensorImpl.h:1156.)\n",
            "  return torch.max_pool2d(input, kernel_size, stride, padding, dilation, ceil_mode)\n",
            "100%|██████████| 3/3 [01:03<00:00, 21.21s/it]\n"
          ]
        },
        {
          "output_type": "stream",
          "name": "stdout",
          "text": [
            "Begin iterating over validation dataset\n"
          ]
        },
        {
          "output_type": "stream",
          "name": "stderr",
          "text": [
            "100%|██████████| 1/1 [00:08<00:00,  8.04s/it]\n"
          ]
        },
        {
          "output_type": "stream",
          "name": "stdout",
          "text": [
            "Loss: 0.9722896814346313\n"
          ]
        }
      ]
    }
  ],
  "metadata": {
    "colab": {
      "provenance": [],
      "include_colab_link": true
    },
    "gpuClass": "standard",
    "kernelspec": {
      "display_name": "Food_Segmentation",
      "language": "python",
      "name": "food_segmentation"
    },
    "language_info": {
      "codemirror_mode": {
        "name": "ipython",
        "version": 3
      },
      "file_extension": ".py",
      "mimetype": "text/x-python",
      "name": "python",
      "nbconvert_exporter": "python",
      "pygments_lexer": "ipython3",
      "version": "3.7.11"
    },
    "widgets": {
      "application/vnd.jupyter.widget-state+json": {
        "3583cd6689f74d5395e8774661f5ea10": {
          "model_module": "@jupyter-widgets/controls",
          "model_name": "HBoxModel",
          "model_module_version": "1.5.0",
          "state": {
            "_dom_classes": [],
            "_model_module": "@jupyter-widgets/controls",
            "_model_module_version": "1.5.0",
            "_model_name": "HBoxModel",
            "_view_count": null,
            "_view_module": "@jupyter-widgets/controls",
            "_view_module_version": "1.5.0",
            "_view_name": "HBoxView",
            "box_style": "",
            "children": [
              "IPY_MODEL_5849b6dc0ff1421ea60d1905080ad997",
              "IPY_MODEL_256d496d01b64d79a1c8795cbc191d81",
              "IPY_MODEL_fd1e676af2e84fc29fb4221701ffb0b1"
            ],
            "layout": "IPY_MODEL_0d27600e3da7405fbecf9ad68d921a1a"
          }
        },
        "5849b6dc0ff1421ea60d1905080ad997": {
          "model_module": "@jupyter-widgets/controls",
          "model_name": "HTMLModel",
          "model_module_version": "1.5.0",
          "state": {
            "_dom_classes": [],
            "_model_module": "@jupyter-widgets/controls",
            "_model_module_version": "1.5.0",
            "_model_name": "HTMLModel",
            "_view_count": null,
            "_view_module": "@jupyter-widgets/controls",
            "_view_module_version": "1.5.0",
            "_view_name": "HTMLView",
            "description": "",
            "description_tooltip": null,
            "layout": "IPY_MODEL_11e8b276cc234b5ea4e9ad3c64f33a03",
            "placeholder": "​",
            "style": "IPY_MODEL_e44333a9c46a4ee1b0143dcf4292c566",
            "value": "100%"
          }
        },
        "256d496d01b64d79a1c8795cbc191d81": {
          "model_module": "@jupyter-widgets/controls",
          "model_name": "FloatProgressModel",
          "model_module_version": "1.5.0",
          "state": {
            "_dom_classes": [],
            "_model_module": "@jupyter-widgets/controls",
            "_model_module_version": "1.5.0",
            "_model_name": "FloatProgressModel",
            "_view_count": null,
            "_view_module": "@jupyter-widgets/controls",
            "_view_module_version": "1.5.0",
            "_view_name": "ProgressView",
            "bar_style": "success",
            "description": "",
            "description_tooltip": null,
            "layout": "IPY_MODEL_eb892deb599f48c0ae02ca2621f38977",
            "max": 167502836,
            "min": 0,
            "orientation": "horizontal",
            "style": "IPY_MODEL_2a3882ddc76c4a8b9c9bd5b7408ca69c",
            "value": 167502836
          }
        },
        "fd1e676af2e84fc29fb4221701ffb0b1": {
          "model_module": "@jupyter-widgets/controls",
          "model_name": "HTMLModel",
          "model_module_version": "1.5.0",
          "state": {
            "_dom_classes": [],
            "_model_module": "@jupyter-widgets/controls",
            "_model_module_version": "1.5.0",
            "_model_name": "HTMLModel",
            "_view_count": null,
            "_view_module": "@jupyter-widgets/controls",
            "_view_module_version": "1.5.0",
            "_view_name": "HTMLView",
            "description": "",
            "description_tooltip": null,
            "layout": "IPY_MODEL_fe0ee94b597f4002bc0062baa7fbe794",
            "placeholder": "​",
            "style": "IPY_MODEL_b64a4d6c3a4b4f24b0ed16b60dff6055",
            "value": " 160M/160M [00:01&lt;00:00, 138MB/s]"
          }
        },
        "0d27600e3da7405fbecf9ad68d921a1a": {
          "model_module": "@jupyter-widgets/base",
          "model_name": "LayoutModel",
          "model_module_version": "1.2.0",
          "state": {
            "_model_module": "@jupyter-widgets/base",
            "_model_module_version": "1.2.0",
            "_model_name": "LayoutModel",
            "_view_count": null,
            "_view_module": "@jupyter-widgets/base",
            "_view_module_version": "1.2.0",
            "_view_name": "LayoutView",
            "align_content": null,
            "align_items": null,
            "align_self": null,
            "border": null,
            "bottom": null,
            "display": null,
            "flex": null,
            "flex_flow": null,
            "grid_area": null,
            "grid_auto_columns": null,
            "grid_auto_flow": null,
            "grid_auto_rows": null,
            "grid_column": null,
            "grid_gap": null,
            "grid_row": null,
            "grid_template_areas": null,
            "grid_template_columns": null,
            "grid_template_rows": null,
            "height": null,
            "justify_content": null,
            "justify_items": null,
            "left": null,
            "margin": null,
            "max_height": null,
            "max_width": null,
            "min_height": null,
            "min_width": null,
            "object_fit": null,
            "object_position": null,
            "order": null,
            "overflow": null,
            "overflow_x": null,
            "overflow_y": null,
            "padding": null,
            "right": null,
            "top": null,
            "visibility": null,
            "width": null
          }
        },
        "11e8b276cc234b5ea4e9ad3c64f33a03": {
          "model_module": "@jupyter-widgets/base",
          "model_name": "LayoutModel",
          "model_module_version": "1.2.0",
          "state": {
            "_model_module": "@jupyter-widgets/base",
            "_model_module_version": "1.2.0",
            "_model_name": "LayoutModel",
            "_view_count": null,
            "_view_module": "@jupyter-widgets/base",
            "_view_module_version": "1.2.0",
            "_view_name": "LayoutView",
            "align_content": null,
            "align_items": null,
            "align_self": null,
            "border": null,
            "bottom": null,
            "display": null,
            "flex": null,
            "flex_flow": null,
            "grid_area": null,
            "grid_auto_columns": null,
            "grid_auto_flow": null,
            "grid_auto_rows": null,
            "grid_column": null,
            "grid_gap": null,
            "grid_row": null,
            "grid_template_areas": null,
            "grid_template_columns": null,
            "grid_template_rows": null,
            "height": null,
            "justify_content": null,
            "justify_items": null,
            "left": null,
            "margin": null,
            "max_height": null,
            "max_width": null,
            "min_height": null,
            "min_width": null,
            "object_fit": null,
            "object_position": null,
            "order": null,
            "overflow": null,
            "overflow_x": null,
            "overflow_y": null,
            "padding": null,
            "right": null,
            "top": null,
            "visibility": null,
            "width": null
          }
        },
        "e44333a9c46a4ee1b0143dcf4292c566": {
          "model_module": "@jupyter-widgets/controls",
          "model_name": "DescriptionStyleModel",
          "model_module_version": "1.5.0",
          "state": {
            "_model_module": "@jupyter-widgets/controls",
            "_model_module_version": "1.5.0",
            "_model_name": "DescriptionStyleModel",
            "_view_count": null,
            "_view_module": "@jupyter-widgets/base",
            "_view_module_version": "1.2.0",
            "_view_name": "StyleView",
            "description_width": ""
          }
        },
        "eb892deb599f48c0ae02ca2621f38977": {
          "model_module": "@jupyter-widgets/base",
          "model_name": "LayoutModel",
          "model_module_version": "1.2.0",
          "state": {
            "_model_module": "@jupyter-widgets/base",
            "_model_module_version": "1.2.0",
            "_model_name": "LayoutModel",
            "_view_count": null,
            "_view_module": "@jupyter-widgets/base",
            "_view_module_version": "1.2.0",
            "_view_name": "LayoutView",
            "align_content": null,
            "align_items": null,
            "align_self": null,
            "border": null,
            "bottom": null,
            "display": null,
            "flex": null,
            "flex_flow": null,
            "grid_area": null,
            "grid_auto_columns": null,
            "grid_auto_flow": null,
            "grid_auto_rows": null,
            "grid_column": null,
            "grid_gap": null,
            "grid_row": null,
            "grid_template_areas": null,
            "grid_template_columns": null,
            "grid_template_rows": null,
            "height": null,
            "justify_content": null,
            "justify_items": null,
            "left": null,
            "margin": null,
            "max_height": null,
            "max_width": null,
            "min_height": null,
            "min_width": null,
            "object_fit": null,
            "object_position": null,
            "order": null,
            "overflow": null,
            "overflow_x": null,
            "overflow_y": null,
            "padding": null,
            "right": null,
            "top": null,
            "visibility": null,
            "width": null
          }
        },
        "2a3882ddc76c4a8b9c9bd5b7408ca69c": {
          "model_module": "@jupyter-widgets/controls",
          "model_name": "ProgressStyleModel",
          "model_module_version": "1.5.0",
          "state": {
            "_model_module": "@jupyter-widgets/controls",
            "_model_module_version": "1.5.0",
            "_model_name": "ProgressStyleModel",
            "_view_count": null,
            "_view_module": "@jupyter-widgets/base",
            "_view_module_version": "1.2.0",
            "_view_name": "StyleView",
            "bar_color": null,
            "description_width": ""
          }
        },
        "fe0ee94b597f4002bc0062baa7fbe794": {
          "model_module": "@jupyter-widgets/base",
          "model_name": "LayoutModel",
          "model_module_version": "1.2.0",
          "state": {
            "_model_module": "@jupyter-widgets/base",
            "_model_module_version": "1.2.0",
            "_model_name": "LayoutModel",
            "_view_count": null,
            "_view_module": "@jupyter-widgets/base",
            "_view_module_version": "1.2.0",
            "_view_name": "LayoutView",
            "align_content": null,
            "align_items": null,
            "align_self": null,
            "border": null,
            "bottom": null,
            "display": null,
            "flex": null,
            "flex_flow": null,
            "grid_area": null,
            "grid_auto_columns": null,
            "grid_auto_flow": null,
            "grid_auto_rows": null,
            "grid_column": null,
            "grid_gap": null,
            "grid_row": null,
            "grid_template_areas": null,
            "grid_template_columns": null,
            "grid_template_rows": null,
            "height": null,
            "justify_content": null,
            "justify_items": null,
            "left": null,
            "margin": null,
            "max_height": null,
            "max_width": null,
            "min_height": null,
            "min_width": null,
            "object_fit": null,
            "object_position": null,
            "order": null,
            "overflow": null,
            "overflow_x": null,
            "overflow_y": null,
            "padding": null,
            "right": null,
            "top": null,
            "visibility": null,
            "width": null
          }
        },
        "b64a4d6c3a4b4f24b0ed16b60dff6055": {
          "model_module": "@jupyter-widgets/controls",
          "model_name": "DescriptionStyleModel",
          "model_module_version": "1.5.0",
          "state": {
            "_model_module": "@jupyter-widgets/controls",
            "_model_module_version": "1.5.0",
            "_model_name": "DescriptionStyleModel",
            "_view_count": null,
            "_view_module": "@jupyter-widgets/base",
            "_view_module_version": "1.2.0",
            "_view_name": "StyleView",
            "description_width": ""
          }
        }
      }
    }
  },
  "nbformat": 4,
  "nbformat_minor": 0
}