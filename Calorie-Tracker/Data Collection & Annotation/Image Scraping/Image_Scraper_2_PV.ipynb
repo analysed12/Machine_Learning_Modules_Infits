{
 "cells": [
  {
   "cell_type": "code",
   "execution_count": 1,
   "id": "8b1b6781",
   "metadata": {},
   "outputs": [],
   "source": [
    "import requests\n",
    "from selenium import webdriver\n",
    "from selenium.webdriver.common.by import By\n",
    "import urllib\n",
    "import time"
   ]
  },
  {
   "cell_type": "code",
   "execution_count": 8,
   "id": "9bdc3910",
   "metadata": {},
   "outputs": [],
   "source": [
    "def search_download(search_term,download_directory,number):\n",
    "    chrome_options = webdriver.ChromeOptions()\n",
    "    chrome_options.add_argument('--headless')\n",
    "    chrome_options.add_argument('--no-sandbox')\n",
    "    chrome_options.add_argument('--disable-dev-shm-usage')\n",
    "    driver = webdriver.Chrome('chromedriver',chrome_options=chrome_options)\n",
    "    # Create url variable containing the webpage for a Google image search.\n",
    "    url = (\"https://www.google.com/search?q={s}&tbm=isch&tbs=sur%3Afc&hl=en&ved=0CAIQpwVqFwoTCKCa1c6s4-oCFQAAAAAdAAAAABAC&biw=1251&bih=568\")\n",
    "    # Launch the browser and open the given url in the webdriver.\n",
    "    driver.get(url.format(s=search_term))\n",
    "    # Scroll down the body of the web page and load the images.\n",
    "    C=0\n",
    "    while(C<3):\n",
    "        driver.execute_script(\"window.scrollTo(0,document.body.scrollHeight);\")\n",
    "        time.sleep(5)\n",
    "        # Find the images.\n",
    "        imgResults = driver.find_elements(By.XPATH,\"//img[contains(@class,'Q4LuWd')]\")\n",
    "        C+=1\n",
    "    # Access and store the scr list of image url's.\n",
    "    src = []\n",
    "    for img in imgResults:\n",
    "        src.append(img.get_attribute('src'))\n",
    "    # Retrieve and download the images.\n",
    "    count=0\n",
    "    for i in range(number):    \n",
    "        try:\n",
    "            urllib.request.urlretrieve(str(src[i]),download_directory+search_term+\"{}.jpg\".format(count))\n",
    "            count+=1\n",
    "        except ValueError:\n",
    "            continue"
   ]
  },
  {
   "cell_type": "code",
   "execution_count": 9,
   "id": "6789db1e",
   "metadata": {},
   "outputs": [
    {
     "name": "stderr",
     "output_type": "stream",
     "text": [
      "C:\\Users\\arviv\\AppData\\Local\\Temp\\ipykernel_13884\\4282590276.py:6: DeprecationWarning: use options instead of chrome_options\n",
      "  driver = webdriver.Chrome('chromedriver',chrome_options=chrome_options)\n"
     ]
    }
   ],
   "source": [
    "search_download(\"Chicken Curry\",\"D:/Downloads/\",100)"
   ]
  }
 ],
 "metadata": {
  "kernelspec": {
   "display_name": "Python 3 (ipykernel)",
   "language": "python",
   "name": "python3"
  },
  "language_info": {
   "codemirror_mode": {
    "name": "ipython",
    "version": 3
   },
   "file_extension": ".py",
   "mimetype": "text/x-python",
   "name": "python",
   "nbconvert_exporter": "python",
   "pygments_lexer": "ipython3",
   "version": "3.9.13"
  }
 },
 "nbformat": 4,
 "nbformat_minor": 5
}
