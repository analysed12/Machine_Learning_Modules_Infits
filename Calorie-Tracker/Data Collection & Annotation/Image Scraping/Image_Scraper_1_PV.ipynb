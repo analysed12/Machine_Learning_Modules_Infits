{
 "cells": [
  {
   "cell_type": "code",
   "execution_count": 9,
   "metadata": {},
   "outputs": [],
   "source": [
    "import os"
   ]
  },
  {
   "cell_type": "code",
   "execution_count": 6,
   "metadata": {},
   "outputs": [],
   "source": [
    "from selenium.webdriver.common.by import By"
   ]
  },
  {
   "cell_type": "code",
   "execution_count": 7,
   "metadata": {},
   "outputs": [],
   "source": [
    "import time"
   ]
  },
  {
   "cell_type": "code",
   "execution_count": 8,
   "metadata": {},
   "outputs": [],
   "source": [
    "import requests"
   ]
  },
  {
   "cell_type": "code",
   "execution_count": 10,
   "metadata": {},
   "outputs": [],
   "source": [
    "import io"
   ]
  },
  {
   "cell_type": "code",
   "execution_count": 10,
   "metadata": {},
   "outputs": [],
   "source": [
    "from PIL import Image"
   ]
  },
  {
   "cell_type": "code",
   "execution_count": 11,
   "metadata": {},
   "outputs": [],
   "source": [
    "import hashlib"
   ]
  },
  {
   "cell_type": "code",
   "execution_count": 16,
   "metadata": {},
   "outputs": [
    {
     "name": "stderr",
     "output_type": "stream",
     "text": [
      "C:\\Users\\arviv\\anaconda3\\lib\\site-packages\\ipykernel_launcher.py:3: DeprecationWarning: executable_path has been deprecated, please pass in a Service object\n",
      "  This is separate from the ipykernel package so we can avoid doing imports until\n"
     ]
    }
   ],
   "source": [
    "from selenium import webdriver\n",
    "DRIVER_PATH = 'C:/Program Files/chromedriver_win32/chromedriver.exe'\n",
    "wd = webdriver.Chrome(executable_path=DRIVER_PATH)"
   ]
  },
  {
   "cell_type": "code",
   "execution_count": 2,
   "metadata": {},
   "outputs": [],
   "source": [
    "wd.get('https://google.com')"
   ]
  },
  {
   "cell_type": "code",
   "execution_count": 17,
   "metadata": {},
   "outputs": [],
   "source": [
    "wd.get(\"https://drive.google.com/drive/folders/1yw8vIWUSqZKvj-pNG8Yn_pYpj8R1iuo6\")"
   ]
  },
  {
   "cell_type": "code",
   "execution_count": 6,
   "metadata": {},
   "outputs": [],
   "source": [
    "search_box = wd.find_element(By.CSS_SELECTOR,'input.gLFyf')\n",
    "search_box.send_keys('Dogs')"
   ]
  },
  {
   "cell_type": "code",
   "execution_count": 18,
   "metadata": {},
   "outputs": [],
   "source": [
    "def scroll_to_end(wd):\n",
    "    wd.execute_script(\"window.scrollTo(0, document.body.scrollHeight);\")\n",
    "    time.sleep(2)\n",
    "scroll_to_end(wd)"
   ]
  },
  {
   "cell_type": "code",
   "execution_count": 2,
   "metadata": {},
   "outputs": [],
   "source": [
    "def fetch_image_urls(query:str, max_links_to_fetch:int, wd:webdriver, sleep_between_interactions:int=1):\n",
    "    def scroll_to_end(wd):\n",
    "        wd.execute_script(\"window.scrollTo(0, document.body.scrollHeight);\")\n",
    "        time.sleep(sleep_between_interactions)    \n",
    "    \n",
    "    # build the google query\n",
    "    search_url = \"https://www.google.com/search?safe=off&site=&tbm=isch&source=hp&q={q}&oq={q}&gs_l=img\"\n",
    "\n",
    "    # load the page\n",
    "    wd.get(search_url.format(q=query))\n",
    "\n",
    "    image_urls = set()\n",
    "    image_count = 0\n",
    "    results_start = 0\n",
    "    while image_count < max_links_to_fetch:\n",
    "        scroll_to_end(wd)\n",
    "\n",
    "        # get all image thumbnail results\n",
    "        thumbnail_results = wd.find_elements(By.CSS_SELECTOR,\"img.Q4LuWd\")\n",
    "        number_results = len(thumbnail_results)\n",
    "        \n",
    "        print(f\"Found: {number_results} search results. Extracting links from {results_start}:{number_results}\")\n",
    "        \n",
    "        for img in thumbnail_results[results_start:number_results]:\n",
    "            # try to click every thumbnail such that we can get the real image behind it\n",
    "            try:\n",
    "                img.click()\n",
    "                time.sleep(sleep_between_interactions)\n",
    "            except Exception:\n",
    "                continue\n",
    "\n",
    "            # extract image urls    \n",
    "            actual_images = wd.find_elements(By.CSS_SELECTOR,'img.n3VNCb')\n",
    "            for actual_image in actual_images:\n",
    "                if actual_image.get_attribute('src') and 'http' in actual_image.get_attribute('src'):\n",
    "                    image_urls.add(actual_image.get_attribute('src'))\n",
    "\n",
    "            image_count = len(image_urls)\n",
    "\n",
    "            if len(image_urls) >= max_links_to_fetch:\n",
    "                print(f\"Found: {len(image_urls)} image links, done!\")\n",
    "                break\n",
    "        else:\n",
    "            print(\"Found:\", len(image_urls), \"image links, looking for more ...\")\n",
    "            time.sleep(30)\n",
    "            return\n",
    "            load_more_button = wd.find_element(By.CSS_SELECTOR,\".mye4qd\")\n",
    "            if load_more_button:\n",
    "                wd.execute_script(\"document.querySelector('.mye4qd').click();\")\n",
    "\n",
    "        # move the result startpoint further down\n",
    "        results_start = len(thumbnail_results)\n",
    "\n",
    "    return image_urls"
   ]
  },
  {
   "cell_type": "code",
   "execution_count": 3,
   "metadata": {},
   "outputs": [],
   "source": [
    "def persist_image(folder_path:str,url:str):\n",
    "    try:\n",
    "        image_content = requests.get(url).content\n",
    "\n",
    "    except Exception as e:\n",
    "        print(f\"ERROR - Could not download {url} - {e}\")\n",
    "\n",
    "    try:\n",
    "        image_file = io.BytesIO(image_content)\n",
    "        image = Image.open(image_file).convert('RGB')\n",
    "        file_path = os.path.join(folder_path,hashlib.sha1(image_content).hexdigest()[:10] + '.jpg')\n",
    "        with open(file_path, 'wb') as f:\n",
    "            image.save(f, \"JPEG\", quality=85)\n",
    "        print(f\"SUCCESS - saved {url} - as {file_path}\")\n",
    "    except Exception as e:\n",
    "        print(f\"ERROR - Could not save {url} - {e}\")"
   ]
  },
  {
   "cell_type": "code",
   "execution_count": 27,
   "metadata": {},
   "outputs": [
    {
     "name": "stdout",
     "output_type": "stream",
     "text": [
      "Found: 48 search results. Extracting links from 0:48\n",
      "Found: 1 image links, looking for more ...\n"
     ]
    }
   ],
   "source": [
    "fetch_image_urls('dogs',5,wd)"
   ]
  },
  {
   "cell_type": "code",
   "execution_count": 7,
   "metadata": {},
   "outputs": [],
   "source": [
    "def search_and_download(search_term:str,driver_path:str,target_path='D:/images',number_images=100):\n",
    "    target_folder = os.path.join(target_path,'_'.join(search_term.lower().split(' ')))\n",
    "\n",
    "    if not os.path.exists(target_folder):\n",
    "        os.makedirs(target_folder)\n",
    "\n",
    "    with webdriver.Chrome(executable_path=driver_path) as wd:\n",
    "        res = fetch_image_urls(search_term, number_images, wd=wd, sleep_between_interactions=0.5)\n",
    "        \n",
    "    for elem in res:\n",
    "        persist_image(target_folder,elem)"
   ]
  },
  {
   "cell_type": "code",
   "execution_count": 46,
   "metadata": {},
   "outputs": [],
   "source": [
    "food_item=\"Chicken Steak\""
   ]
  },
  {
   "cell_type": "code",
   "execution_count": 47,
   "metadata": {},
   "outputs": [
    {
     "name": "stderr",
     "output_type": "stream",
     "text": [
      "C:\\Users\\arviv\\anaconda3\\lib\\site-packages\\ipykernel_launcher.py:7: DeprecationWarning: executable_path has been deprecated, please pass in a Service object\n",
      "  import sys\n"
     ]
    },
    {
     "name": "stdout",
     "output_type": "stream",
     "text": [
      "Found: 100 search results. Extracting links from 0:100\n",
      "Found: 100 image links, done!\n",
      "SUCCESS - saved https://www.recipetineats.com/wp-content/uploads/2021/07/Mushroom-Stuffed-Chicken-Breast_14-SQ.jpg - as D:/images\\chicken_steak\\684736b165.jpg\n",
      "SUCCESS - saved https://encrypted-tbn0.gstatic.com/images?q=tbn:ANd9GcTpItzAfgW-G32C9aBcjJBMGVqALygLKK1Blw&usqp=CAU - as D:/images\\chicken_steak\\cff30a2541.jpg\n",
      "SUCCESS - saved https://i.ytimg.com/vi/CbbmFlsecLI/maxresdefault.jpg - as D:/images\\chicken_steak\\0862975aa5.jpg\n",
      "SUCCESS - saved https://encrypted-tbn0.gstatic.com/images?q=tbn:ANd9GcT_1me4W-QTZ29_kOQhFxT4pTNczS3RLfq0Eg&usqp=CAU - as D:/images\\chicken_steak\\76979f7085.jpg\n",
      "SUCCESS - saved https://encrypted-tbn0.gstatic.com/images?q=tbn:ANd9GcQNMEbXmnVdcWJSTFJH131jet7k8KGW99Wc7A&usqp=CAU - as D:/images\\chicken_steak\\3526d563d6.jpg\n",
      "SUCCESS - saved https://www.aheadofthyme.com/wp-content/uploads/2022/04/mexican-chicken-breast-2.jpg - as D:/images\\chicken_steak\\d4300fffb2.jpg\n",
      "SUCCESS - saved https://encrypted-tbn0.gstatic.com/images?q=tbn:ANd9GcTEt19q9kaexXXPnt11wOa_8HKk2cmh_PRixA&usqp=CAU - as D:/images\\chicken_steak\\720956f2e4.jpg\n",
      "SUCCESS - saved https://encrypted-tbn0.gstatic.com/images?q=tbn:ANd9GcQjhQkfHo5SrWx0y3eLpCdIp1ZP4k9v8M_q_w&usqp=CAU - as D:/images\\chicken_steak\\e8e93db131.jpg\n",
      "SUCCESS - saved https://encrypted-tbn0.gstatic.com/images?q=tbn:ANd9GcThABk_ACXBhPUpCt5DMZMfjWHKck206okGoQ&usqp=CAU - as D:/images\\chicken_steak\\c1c480585e.jpg\n",
      "SUCCESS - saved https://encrypted-tbn0.gstatic.com/images?q=tbn:ANd9GcTYY4cRiZ1NI-OLtppwXM1SGff-ABUsmNvWow&usqp=CAU - as D:/images\\chicken_steak\\a34240947d.jpg\n",
      "SUCCESS - saved https://encrypted-tbn0.gstatic.com/images?q=tbn:ANd9GcRv_tE1i8ofvinIs6ycxGkZRPa5g0_ufHJGZg&usqp=CAU - as D:/images\\chicken_steak\\64e87ffcbc.jpg\n",
      "SUCCESS - saved https://encrypted-tbn0.gstatic.com/images?q=tbn:ANd9GcSL7q8Szs-BlEioJuCAJ_haNTjtYjj-4z5M9w&usqp=CAU - as D:/images\\chicken_steak\\63f6c079aa.jpg\n",
      "SUCCESS - saved https://s3-ap-south-1.amazonaws.com/betterbutterbucket-silver/mahua-bhattacharjee2017011518233805.jpeg - as D:/images\\chicken_steak\\963749ed51.jpg\n",
      "SUCCESS - saved https://encrypted-tbn0.gstatic.com/images?q=tbn:ANd9GcTQQJOHpnZ9hZJY_83yquiLqqOh-vHSXnNz3w&usqp=CAU - as D:/images\\chicken_steak\\4ef460b7bc.jpg\n",
      "SUCCESS - saved https://encrypted-tbn0.gstatic.com/images?q=tbn:ANd9GcQ3bGGubX93MAlqmVMXYfeDya1NMrgHcY20ww&usqp=CAU - as D:/images\\chicken_steak\\81aea2af6a.jpg\n",
      "SUCCESS - saved https://encrypted-tbn0.gstatic.com/images?q=tbn:ANd9GcRjKqcMCrG3DrEg0_9S3QEhVI1D8S2IyHqdrg&usqp=CAU - as D:/images\\chicken_steak\\e2b559d00e.jpg\n",
      "SUCCESS - saved https://encrypted-tbn0.gstatic.com/images?q=tbn:ANd9GcSYNpqLzdJcwMx7n7v5PrJzttmvmWqUPOsDiA&usqp=CAU - as D:/images\\chicken_steak\\309803e392.jpg\n",
      "SUCCESS - saved https://encrypted-tbn0.gstatic.com/images?q=tbn:ANd9GcQFFjjIfMnTQQ0er-4x1u1xA0zO-PdSPJR2wQ&usqp=CAU - as D:/images\\chicken_steak\\e412d4afa0.jpg\n",
      "SUCCESS - saved https://encrypted-tbn0.gstatic.com/images?q=tbn:ANd9GcRg8sVxMNFK4K4qJATkJdRCgM9dasPKUo3bdA&usqp=CAU - as D:/images\\chicken_steak\\e39e477bcb.jpg\n",
      "SUCCESS - saved https://encrypted-tbn0.gstatic.com/images?q=tbn:ANd9GcTXC80B93y9cFdwIeqJmSOoUPo1go-tvC5-zg&usqp=CAU - as D:/images\\chicken_steak\\16ba9e1b61.jpg\n",
      "SUCCESS - saved https://encrypted-tbn0.gstatic.com/images?q=tbn:ANd9GcSLjvl2YS6gm9dwnPY5SCOPMR3loLm2C4U1IQ&usqp=CAU - as D:/images\\chicken_steak\\628060f1a7.jpg\n",
      "SUCCESS - saved https://encrypted-tbn0.gstatic.com/images?q=tbn:ANd9GcQUXLohZ2m-qRZVeodrIq0AyfiulwdgAahKrg&usqp=CAU - as D:/images\\chicken_steak\\e99258ee88.jpg\n",
      "SUCCESS - saved https://insanelygoodrecipes.com/wp-content/uploads/2022/06/Homemade-Chicken-and-Steak-Fajitas-with-Bell-Peppers-500x375.jpg - as D:/images\\chicken_steak\\3c8fe5d1ff.jpg\n",
      "SUCCESS - saved https://www.macheesmo.com/wp-content/uploads/2010/09/Classic-Chicken-Fried-Steak.jpg - as D:/images\\chicken_steak\\d18bc18bac.jpg\n",
      "SUCCESS - saved https://media-cdn.tripadvisor.com/media/photo-m/1280/13/7d/50/c2/chicken-steak.jpg - as D:/images\\chicken_steak\\582bbabf3c.jpg\n",
      "SUCCESS - saved https://encrypted-tbn0.gstatic.com/images?q=tbn:ANd9GcSGtvekCgbN3YJnJs_1JJ1QVXeloWAiN36iNg&usqp=CAU - as D:/images\\chicken_steak\\7263c42d13.jpg\n",
      "SUCCESS - saved https://encrypted-tbn0.gstatic.com/images?q=tbn:ANd9GcQ7jQ52sOstl5hLVLS7lkbglSGv805S5LhViw&usqp=CAU - as D:/images\\chicken_steak\\09ad150dc6.jpg\n",
      "SUCCESS - saved https://encrypted-tbn0.gstatic.com/images?q=tbn:ANd9GcTox9N4Epqtia0Bpy7dHC4L7oLhVuel4xB-gA&usqp=CAU - as D:/images\\chicken_steak\\89f2c654b9.jpg\n",
      "SUCCESS - saved https://encrypted-tbn0.gstatic.com/images?q=tbn:ANd9GcRqEuEa2P_F-ujbZbPRdX48nmzyYQMhXkTV-Q&usqp=CAU - as D:/images\\chicken_steak\\a66ebfa0b4.jpg\n",
      "SUCCESS - saved https://encrypted-tbn0.gstatic.com/images?q=tbn:ANd9GcSD5D91tenZZYjUixSZnS_V-B3CU1-6FKAkPA&usqp=CAU - as D:/images\\chicken_steak\\2f189662c6.jpg\n",
      "SUCCESS - saved https://i.ytimg.com/vi/281yuMP7nqE/maxresdefault.jpg - as D:/images\\chicken_steak\\9fd616adb8.jpg\n",
      "SUCCESS - saved https://i.ytimg.com/vi/JqczFXzY6ic/sddefault.jpg - as D:/images\\chicken_steak\\8731dd4a58.jpg\n",
      "SUCCESS - saved https://encrypted-tbn0.gstatic.com/images?q=tbn:ANd9GcQG5oZZC_4nxE7Jre0j9bgLHLhPJbl-JLFXFA&usqp=CAU - as D:/images\\chicken_steak\\68032a5713.jpg\n",
      "SUCCESS - saved https://www.archanaskitchen.com/images/archanaskitchen/1-Author/sneha-archanaskitchen.com/Chicken_Steak_Recipe_With_Pan_Roasted_Vegetables__Potato_Mash__400.jpg - as D:/images\\chicken_steak\\12245775ee.jpg\n",
      "SUCCESS - saved https://encrypted-tbn0.gstatic.com/images?q=tbn:ANd9GcTHVNCespX6Bbwu1F3RTRgmQ59oLNvEGfIoyg&usqp=CAU - as D:/images\\chicken_steak\\8f67763430.jpg\n",
      "SUCCESS - saved https://encrypted-tbn0.gstatic.com/images?q=tbn:ANd9GcRIeU4EexP7EBNr1fRMPnbkVCbkGCO5CvXuPQ&usqp=CAU - as D:/images\\chicken_steak\\902eb1af9c.jpg\n",
      "SUCCESS - saved https://encrypted-tbn0.gstatic.com/images?q=tbn:ANd9GcT0gnlX6geNM0T6R6Q1GaF7wj21lhnPd_VzPg&usqp=CAU - as D:/images\\chicken_steak\\d70367921a.jpg\n",
      "SUCCESS - saved https://encrypted-tbn0.gstatic.com/images?q=tbn:ANd9GcSHeh9OYbrI5G5dRT-EerTMK3-kAdYNJlBhcA&usqp=CAU - as D:/images\\chicken_steak\\1ff3d3d27d.jpg\n",
      "SUCCESS - saved https://encrypted-tbn0.gstatic.com/images?q=tbn:ANd9GcSA63Oa4BA4Xgcqfec-_a7BzRdLFVgJx2CHOg&usqp=CAU - as D:/images\\chicken_steak\\ffaeb13773.jpg\n",
      "SUCCESS - saved https://encrypted-tbn0.gstatic.com/images?q=tbn:ANd9GcRvReAkqb-bJfGqR4vDLHwG7J8DZQF125Iyag&usqp=CAU - as D:/images\\chicken_steak\\880a9fe57c.jpg\n",
      "SUCCESS - saved https://encrypted-tbn0.gstatic.com/images?q=tbn:ANd9GcQT6P-MxKQIoZk4xrigy1WmBEgmYII2CSiowA&usqp=CAU - as D:/images\\chicken_steak\\652f44a13a.jpg\n",
      "SUCCESS - saved https://encrypted-tbn0.gstatic.com/images?q=tbn:ANd9GcSC8b_s_qTv3xfGbF5q3QPNFaHaRekHZuaSfA&usqp=CAU - as D:/images\\chicken_steak\\f777949015.jpg\n",
      "SUCCESS - saved https://funcooking.co.uk/wp-content/uploads/2016/01/Chicken-Steak003.jpg - as D:/images\\chicken_steak\\3ee1e3ab85.jpg\n",
      "SUCCESS - saved https://encrypted-tbn0.gstatic.com/images?q=tbn:ANd9GcTEV-Ix8N22gqo2rgqUFi9DGhBfEfydELorqw&usqp=CAU - as D:/images\\chicken_steak\\5a18ac2e3e.jpg\n",
      "SUCCESS - saved https://encrypted-tbn0.gstatic.com/images?q=tbn:ANd9GcQIzV3SlNesMoSrkcEXww8wsVA0nBvXKkyqjg&usqp=CAU - as D:/images\\chicken_steak\\c21b200179.jpg\n",
      "SUCCESS - saved https://encrypted-tbn0.gstatic.com/images?q=tbn:ANd9GcSzrCZdBFzG8cGn_sm-yDqkFZeZLIVUvQi23w&usqp=CAU - as D:/images\\chicken_steak\\8d0475d3db.jpg\n",
      "SUCCESS - saved https://encrypted-tbn0.gstatic.com/images?q=tbn:ANd9GcR2LhzwVK-rSDoMyhd7RWEraGmgnb6OXEO2UA&usqp=CAU - as D:/images\\chicken_steak\\779c542311.jpg\n",
      "SUCCESS - saved https://encrypted-tbn0.gstatic.com/images?q=tbn:ANd9GcSwmNXtnU3V2IaMqTbxKiYRG81qfFllmsRsUw&usqp=CAU - as D:/images\\chicken_steak\\0b407b5f59.jpg\n",
      "SUCCESS - saved https://encrypted-tbn0.gstatic.com/images?q=tbn:ANd9GcTDXKJYPssM1tEsPwbDhdJMHZJUZzQV1xfEXA&usqp=CAU - as D:/images\\chicken_steak\\5c4aec74db.jpg\n",
      "SUCCESS - saved https://www.licious.in/blog/wp-content/uploads/2020/12/Chicken-Steak-min.jpg - as D:/images\\chicken_steak\\f3139c04e3.jpg\n",
      "SUCCESS - saved https://encrypted-tbn0.gstatic.com/images?q=tbn:ANd9GcTpHfeSWPpOXsrB0sB5nit4v5ASu7qcLsV4sg&usqp=CAU - as D:/images\\chicken_steak\\1698c8a753.jpg\n",
      "SUCCESS - saved https://encrypted-tbn0.gstatic.com/images?q=tbn:ANd9GcT1xIMez8J7jHplJ32YoNJZpDolxJVQepPPDg&usqp=CAU - as D:/images\\chicken_steak\\50fad06941.jpg\n",
      "SUCCESS - saved https://encrypted-tbn0.gstatic.com/images?q=tbn:ANd9GcT2h_C8CLlolOEBEujYWWHv0PUzl2zIptKO5A&usqp=CAU - as D:/images\\chicken_steak\\d8ecb21989.jpg\n"
     ]
    },
    {
     "name": "stdout",
     "output_type": "stream",
     "text": [
      "SUCCESS - saved https://encrypted-tbn0.gstatic.com/images?q=tbn:ANd9GcSGLpuEbzpQsgKJe44N5YmXXuwbXEUgnVGsbA&usqp=CAU - as D:/images\\chicken_steak\\94c7571fc6.jpg\n",
      "SUCCESS - saved https://encrypted-tbn0.gstatic.com/images?q=tbn:ANd9GcTN7WcVNWoLzbuIX7TjV09-2KVv-jCOqk5FOQ&usqp=CAU - as D:/images\\chicken_steak\\7b80637671.jpg\n",
      "SUCCESS - saved https://encrypted-tbn0.gstatic.com/images?q=tbn:ANd9GcQ5iJPcPxchTfeIRpijQMFbO8W4fEnUBiw8cQ&usqp=CAU - as D:/images\\chicken_steak\\58fdf204dd.jpg\n",
      "SUCCESS - saved https://www.thecookierookie.com/wp-content/uploads/2021/06/featured-chicken-fried-steak-recipe.jpg - as D:/images\\chicken_steak\\07228ec3b4.jpg\n",
      "SUCCESS - saved https://encrypted-tbn0.gstatic.com/images?q=tbn:ANd9GcS3XW4uOVA_DwtQKp8vGF7ZqnniaefhknS2hw&usqp=CAU - as D:/images\\chicken_steak\\2dc7e48e9d.jpg\n",
      "SUCCESS - saved https://encrypted-tbn0.gstatic.com/images?q=tbn:ANd9GcTwILKlkoZM4O_pHMO0uHinVJJdM-CWwKA-jA&usqp=CAU - as D:/images\\chicken_steak\\23e789115c.jpg\n",
      "SUCCESS - saved https://img.lovepik.com/free-png/20211215/lovepik-sizzling-chicken-steak-set-png-image_401657790_wh1200.png - as D:/images\\chicken_steak\\5e60de29e4.jpg\n",
      "SUCCESS - saved https://encrypted-tbn0.gstatic.com/images?q=tbn:ANd9GcRILb2Raykw7I_eDePdmFAt_re93AqmAduwKg&usqp=CAU - as D:/images\\chicken_steak\\c17fb2a023.jpg\n",
      "SUCCESS - saved https://encrypted-tbn0.gstatic.com/images?q=tbn:ANd9GcRfOazDQkiIOwjLGs99Ku81A08x0kCqZe7qhQ&usqp=CAU - as D:/images\\chicken_steak\\401f01b071.jpg\n",
      "SUCCESS - saved https://encrypted-tbn0.gstatic.com/images?q=tbn:ANd9GcQbOFoiRJZWTKCfrYQ3jOrowwskLI7-KwmYLQ&usqp=CAU - as D:/images\\chicken_steak\\90f00a99da.jpg\n",
      "SUCCESS - saved https://encrypted-tbn0.gstatic.com/images?q=tbn:ANd9GcTOUlKuOKxlBDoO0ls_yJCjv8ly3bjiHCXD2Q&usqp=CAU - as D:/images\\chicken_steak\\3603cf0f13.jpg\n",
      "SUCCESS - saved https://encrypted-tbn0.gstatic.com/images?q=tbn:ANd9GcQvXbe0I7rXHUvKFvEx4d8c1qplOOuiTOEa0Q&usqp=CAU - as D:/images\\chicken_steak\\cdbe0f0202.jpg\n",
      "SUCCESS - saved https://encrypted-tbn0.gstatic.com/images?q=tbn:ANd9GcTmG_PD4r8lO3yj1hz2sMhqEHwtKE8h4A5pAA&usqp=CAU - as D:/images\\chicken_steak\\18ce9a2deb.jpg\n",
      "SUCCESS - saved https://www.seriouseats.com/thmb/KU0ar7Rr0kM4q3sxIAA_SWp-GLw=/1500x1125/filters:fill(auto,1)/__opt__aboutcom__coeus__resources__content_migration__serious_eats__seriouseats.com__images__2015__02__20150213-chicken-fried-steak-joshua-bousel-3e659213a9974e25abc2ffe314b42d91.jpg - as D:/images\\chicken_steak\\a569d9886f.jpg\n",
      "SUCCESS - saved https://encrypted-tbn0.gstatic.com/images?q=tbn:ANd9GcSsd2kHPYURClw1yTAA8fY9fGEnns6Ekk8h6Q&usqp=CAU - as D:/images\\chicken_steak\\f63ea6416a.jpg\n",
      "SUCCESS - saved https://encrypted-tbn0.gstatic.com/images?q=tbn:ANd9GcThJNlYtDxrII7gC8o5eMhZNMW1GIqlzEmMRA&usqp=CAU - as D:/images\\chicken_steak\\401c82b7fb.jpg\n",
      "SUCCESS - saved https://i.ytimg.com/vi/gbAWQuqcnG8/maxresdefault.jpg - as D:/images\\chicken_steak\\9ea528c31d.jpg\n",
      "SUCCESS - saved https://i.ytimg.com/vi/oUuofHXXUOI/maxresdefault.jpg - as D:/images\\chicken_steak\\272879feb9.jpg\n",
      "SUCCESS - saved https://encrypted-tbn0.gstatic.com/images?q=tbn:ANd9GcRhow9mAkb3xrTjBiRmAhbn1MtmnmodTzZHPQ&usqp=CAU - as D:/images\\chicken_steak\\a3abe6a86a.jpg\n",
      "SUCCESS - saved https://encrypted-tbn0.gstatic.com/images?q=tbn:ANd9GcSJAKzCuCO8fGcBR6TOQpcSw58nRN_PLNQkVA&usqp=CAU - as D:/images\\chicken_steak\\b32ba5df21.jpg\n",
      "SUCCESS - saved https://c.ndtvimg.com/2021-03/ichbiba8_image_640x480_15_March_21.jpg - as D:/images\\chicken_steak\\82fcd9c9ea.jpg\n",
      "SUCCESS - saved https://encrypted-tbn0.gstatic.com/images?q=tbn:ANd9GcRwwLA3E2ZAyO9bGF9-dGDRi3dKPYZGeqrERw&usqp=CAU - as D:/images\\chicken_steak\\8d490bc320.jpg\n",
      "SUCCESS - saved https://d3gy1em549lxx2.cloudfront.net/403d67b1-1b30-40a5-b8ed-48374bc7c235.jpg - as D:/images\\chicken_steak\\667ca0d022.jpg\n",
      "SUCCESS - saved https://healthyfitnessmeals.com/wp-content/uploads/2021/09/Honey-garlic-chicken-breast-8.jpg - as D:/images\\chicken_steak\\cc8f9d3654.jpg\n",
      "SUCCESS - saved https://encrypted-tbn0.gstatic.com/images?q=tbn:ANd9GcTUFWpm1T70i8yq1gXaWVKXFCVyu46Q7f5L4w&usqp=CAU - as D:/images\\chicken_steak\\c31a7cd5f8.jpg\n",
      "SUCCESS - saved https://encrypted-tbn0.gstatic.com/images?q=tbn:ANd9GcROndYINVju9Em8rjSBErf3qaVDK8NLxqQAWg&usqp=CAU - as D:/images\\chicken_steak\\c1393d56d3.jpg\n",
      "SUCCESS - saved https://encrypted-tbn0.gstatic.com/images?q=tbn:ANd9GcSMC0xdAgkMVi5BLdSg1OVsvPGfJsR8FTHG0g&usqp=CAU - as D:/images\\chicken_steak\\2fe93234eb.jpg\n",
      "SUCCESS - saved https://encrypted-tbn0.gstatic.com/images?q=tbn:ANd9GcTsi535vXKlCH-PnIgZ-DNixQLuXB9CFF4JOg&usqp=CAU - as D:/images\\chicken_steak\\b003c59d11.jpg\n",
      "SUCCESS - saved https://encrypted-tbn0.gstatic.com/images?q=tbn:ANd9GcQW5fOqNqWRsBB443XAHshfFmKvBIgLXQLY3w&usqp=CAU - as D:/images\\chicken_steak\\512c755e39.jpg\n",
      "SUCCESS - saved https://encrypted-tbn0.gstatic.com/images?q=tbn:ANd9GcT8KYAsUgQVPNss80dWaS3a-0BEmfMO3-BwtA&usqp=CAU - as D:/images\\chicken_steak\\85fd6d8959.jpg\n",
      "SUCCESS - saved https://encrypted-tbn0.gstatic.com/images?q=tbn:ANd9GcRWu7h7F238zqrt4dSY-vlSvhZy3EGoz298Xg&usqp=CAU - as D:/images\\chicken_steak\\d4cb7b628f.jpg\n",
      "SUCCESS - saved https://media.istockphoto.com/photos/dish-is-chicken-steak-with-vegetables-2-picture-id628398176 - as D:/images\\chicken_steak\\c4b3c0c5b9.jpg\n",
      "SUCCESS - saved https://c.ndtvimg.com/2020-04/hj70ve1g_chicken-breast_625x300_21_April_20.jpg - as D:/images\\chicken_steak\\c29902ff3d.jpg\n",
      "SUCCESS - saved https://cdn.urbanpiper.com/media/bizmedia/2020/09/26/3_COMPRESSED.png - as D:/images\\chicken_steak\\4fbcfbead1.jpg\n",
      "SUCCESS - saved https://www.thespruceeats.com/thmb/LkUBFKq13JScs8_0EVOIwOfpOxo=/2848x2848/smart/filters:no_upscale()/simple-fried-chicken-breast-cutlets-3056859-Hero-5b8d4b3646e0fb0025e8f8ec.jpg - as D:/images\\chicken_steak\\8b899aadda.jpg\n",
      "SUCCESS - saved https://encrypted-tbn0.gstatic.com/images?q=tbn:ANd9GcSaD7iU2ekCZfTnQ5q1_vx78ukr4p60irfvWQ&usqp=CAU - as D:/images\\chicken_steak\\8a5b028dd5.jpg\n",
      "SUCCESS - saved https://d3gy1em549lxx2.cloudfront.net/fa1430fe-666c-418a-8c84-5d9968db31aa.jpg - as D:/images\\chicken_steak\\789ca9cdd5.jpg\n",
      "SUCCESS - saved https://www.verywellfit.com/thmb/_QuBkcIj8-aon5zCZ_dRVe_H2B8=/1000x1000/smart/filters:no_upscale()/chicken-breast_annotated-0898203736ef4b1a90f2fb5cb4c4b1ad.jpg - as D:/images\\chicken_steak\\3a50ac2191.jpg\n",
      "SUCCESS - saved https://i0.wp.com/theindianclaypot.com/wp-content/uploads/2017/05/CHICKEN-STEAK-SMALLER.jpg?fit=1620%2C1080 - as D:/images\\chicken_steak\\c8f74e42b5.jpg\n",
      "SUCCESS - saved https://encrypted-tbn0.gstatic.com/images?q=tbn:ANd9GcT2JHRRnNcBWo-sb9qbeDmjOrLsXl_hm_EJmg&usqp=CAU - as D:/images\\chicken_steak\\2c80fa61ad.jpg\n",
      "SUCCESS - saved https://img-global.cpcdn.com/recipes/5183417ca8424c42/680x482cq70/chicken-steak-with-mushroom-sauce-recipe-main-photo.jpg - as D:/images\\chicken_steak\\ea1676823a.jpg\n",
      "SUCCESS - saved https://encrypted-tbn0.gstatic.com/images?q=tbn:ANd9GcTG4H7k2FxOP_AKeoAwhLz7UDOBcc3p1S9DZA&usqp=CAU - as D:/images\\chicken_steak\\066de71c50.jpg\n",
      "SUCCESS - saved https://encrypted-tbn0.gstatic.com/images?q=tbn:ANd9GcTxkjaglaSSm8r2ePhtKUMfTznYKF7_l7Mk6Q&usqp=CAU - as D:/images\\chicken_steak\\e856de2d62.jpg\n",
      "SUCCESS - saved https://imagesvc.meredithcorp.io/v3/mm/image?url=https%3A%2F%2Fstatic.onecms.io%2Fwp-content%2Fuploads%2Fsites%2F43%2F2022%2F03%2F31%2F240208-simple-baked-chicken-breasts-mfs-53-1x1-1.jpg - as D:/images\\chicken_steak\\98ff652899.jpg\n",
      "SUCCESS - saved https://encrypted-tbn0.gstatic.com/images?q=tbn:ANd9GcTYMAnm544caR1ZQolSBUJDawPILiqX-R6RIw&usqp=CAU - as D:/images\\chicken_steak\\3ac54c13f2.jpg\n",
      "SUCCESS - saved https://food.fnr.sndimg.com/content/dam/images/food/fullset/2012/2/28/2/FNM_040112-Take-It-From-Here-007_s4x3.jpg.rend.hgtvcom.616.462.suffix/1371605952763.jpeg - as D:/images\\chicken_steak\\8443a1cf80.jpg\n",
      "SUCCESS - saved https://encrypted-tbn0.gstatic.com/images?q=tbn:ANd9GcS7Uq-8cmZzqDKgbPAuDpxnKp_HH4XeETtfBQ&usqp=CAU - as D:/images\\chicken_steak\\621198d6ac.jpg\n"
     ]
    }
   ],
   "source": [
    "search_and_download(food_item,DRIVER_PATH)"
   ]
  }
 ],
 "metadata": {
  "kernelspec": {
   "display_name": "Python 3 (ipykernel)",
   "language": "python",
   "name": "python3"
  },
  "language_info": {
   "codemirror_mode": {
    "name": "ipython",
    "version": 3
   },
   "file_extension": ".py",
   "mimetype": "text/x-python",
   "name": "python",
   "nbconvert_exporter": "python",
   "pygments_lexer": "ipython3",
   "version": "3.9.13"
  }
 },
 "nbformat": 4,
 "nbformat_minor": 4
}
